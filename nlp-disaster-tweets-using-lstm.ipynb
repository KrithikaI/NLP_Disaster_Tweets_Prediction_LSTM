{
 "cells": [
  {
   "cell_type": "markdown",
   "id": "fe05714b",
   "metadata": {
    "papermill": {
     "duration": 0.013398,
     "end_time": "2023-03-17T09:22:21.693065",
     "exception": false,
     "start_time": "2023-03-17T09:22:21.679667",
     "status": "completed"
    },
    "tags": []
   },
   "source": [
    "ABOUT:\n",
    "Twitter has become an important communication channel in times of emergency. The ubiquitousness of smartphones enables people to announce an emergency they’re observing in real-time. A machine learning model is built, that would predict which Tweets are about real disasters and which ones aren’t."
   ]
  },
  {
   "cell_type": "code",
   "execution_count": 1,
   "id": "7cab2834",
   "metadata": {
    "_cell_guid": "b1076dfc-b9ad-4769-8c92-a6c4dae69d19",
    "_uuid": "8f2839f25d086af736a60e9eeb907d3b93b6e0e5",
    "execution": {
     "iopub.execute_input": "2023-03-17T09:22:21.720815Z",
     "iopub.status.busy": "2023-03-17T09:22:21.720139Z",
     "iopub.status.idle": "2023-03-17T09:22:21.732854Z",
     "shell.execute_reply": "2023-03-17T09:22:21.731368Z"
    },
    "papermill": {
     "duration": 0.029599,
     "end_time": "2023-03-17T09:22:21.735405",
     "exception": false,
     "start_time": "2023-03-17T09:22:21.705806",
     "status": "completed"
    },
    "tags": []
   },
   "outputs": [
    {
     "name": "stdout",
     "output_type": "stream",
     "text": [
      "/kaggle/input/nlp-getting-started/sample_submission.csv\n",
      "/kaggle/input/nlp-getting-started/train.csv\n",
      "/kaggle/input/nlp-getting-started/test.csv\n"
     ]
    }
   ],
   "source": [
    "# IMPORTING LIBRARIES AND DATA\n",
    "# This Python 3 environment comes with many helpful analytics libraries installed\n",
    "# It is defined by the kaggle/python Docker image: https://github.com/kaggle/docker-python\n",
    "# For example, here's several helpful packages to load\n",
    "\n",
    "import numpy as np # linear algebra\n",
    "import pandas as pd # data processing, CSV file I/O (e.g. pd.read_csv)\n",
    "\n",
    "# Input data files are available in the read-only \"../input/\" directory\n",
    "# For example, running this (by clicking run or pressing Shift+Enter) will list all files under the input directory\n",
    "\n",
    "import os\n",
    "for dirname, _, filenames in os.walk('/kaggle/input'):\n",
    "    for filename in filenames:\n",
    "        print(os.path.join(dirname, filename))\n",
    "\n",
    "# You can write up to 20GB to the current directory (/kaggle/working/) that gets preserved as output when you create a version using \"Save & Run All\" \n",
    "# You can also write temporary files to /kaggle/temp/, but they won't be saved outside of the current session"
   ]
  },
  {
   "cell_type": "code",
   "execution_count": 2,
   "id": "48ba5557",
   "metadata": {
    "execution": {
     "iopub.execute_input": "2023-03-17T09:22:21.763401Z",
     "iopub.status.busy": "2023-03-17T09:22:21.763021Z",
     "iopub.status.idle": "2023-03-17T09:22:32.444652Z",
     "shell.execute_reply": "2023-03-17T09:22:32.443487Z"
    },
    "papermill": {
     "duration": 10.698682,
     "end_time": "2023-03-17T09:22:32.447108",
     "exception": false,
     "start_time": "2023-03-17T09:22:21.748426",
     "status": "completed"
    },
    "tags": []
   },
   "outputs": [],
   "source": [
    "#Libraries for visualisation\n",
    "import seaborn as sns\n",
    "import matplotlib.pyplot as plt\n",
    "\n",
    "#Libraries for formattting and handling text \n",
    "import string \n",
    "import re\n",
    "\n",
    "#Library for nltk\n",
    "import nltk\n",
    "from nltk.corpus import stopwords\n",
    "from nltk.tokenize import sent_tokenize, word_tokenize\n",
    "from wordcloud import WordCloud, STOPWORDS\n",
    "\n",
    "\n",
    "#Library for Splitting Dataset\n",
    "from sklearn.model_selection import train_test_split\n",
    "\n",
    "\n",
    "#Libraries for NN\n",
    "import tensorflow as tf\n",
    "\n",
    "from tensorflow import keras\n",
    "from tensorflow.keras.preprocessing.text import Tokenizer\n",
    "from nltk.stem import PorterStemmer, WordNetLemmatizer\n",
    "from tensorflow.keras.preprocessing.sequence import pad_sequences\n",
    "\n",
    "from tensorflow.keras import optimizers\n",
    "from tensorflow.keras.models import Sequential\n",
    "from tensorflow.keras.layers import Dense, Embedding, LSTM, Dropout\n",
    "\n",
    "from tensorflow.keras.utils import plot_model\n",
    "\n",
    "#Library for evaluation\n",
    "from sklearn import metrics\n",
    "from functools import reduce\n",
    "from sklearn.metrics import confusion_matrix\n",
    "from sklearn.metrics import classification_report\n",
    "\n",
    "import warnings\n",
    "warnings.filterwarnings(\"ignore\")"
   ]
  },
  {
   "cell_type": "code",
   "execution_count": 3,
   "id": "397f1fb5",
   "metadata": {
    "execution": {
     "iopub.execute_input": "2023-03-17T09:22:32.476297Z",
     "iopub.status.busy": "2023-03-17T09:22:32.475666Z",
     "iopub.status.idle": "2023-03-17T09:22:32.524956Z",
     "shell.execute_reply": "2023-03-17T09:22:32.523679Z"
    },
    "papermill": {
     "duration": 0.06586,
     "end_time": "2023-03-17T09:22:32.527269",
     "exception": false,
     "start_time": "2023-03-17T09:22:32.461409",
     "status": "completed"
    },
    "tags": []
   },
   "outputs": [],
   "source": [
    "train_data = pd.read_csv('/kaggle/input/nlp-getting-started/train.csv')"
   ]
  },
  {
   "cell_type": "markdown",
   "id": "aeb3e2bc",
   "metadata": {
    "papermill": {
     "duration": 0.012914,
     "end_time": "2023-03-17T09:22:32.553353",
     "exception": false,
     "start_time": "2023-03-17T09:22:32.540439",
     "status": "completed"
    },
    "tags": []
   },
   "source": [
    "TEXT ANALYSIS"
   ]
  },
  {
   "cell_type": "code",
   "execution_count": 4,
   "id": "bfe9396c",
   "metadata": {
    "execution": {
     "iopub.execute_input": "2023-03-17T09:22:32.582715Z",
     "iopub.status.busy": "2023-03-17T09:22:32.582297Z",
     "iopub.status.idle": "2023-03-17T09:22:32.679210Z",
     "shell.execute_reply": "2023-03-17T09:22:32.678187Z"
    },
    "papermill": {
     "duration": 0.113509,
     "end_time": "2023-03-17T09:22:32.681292",
     "exception": false,
     "start_time": "2023-03-17T09:22:32.567783",
     "status": "completed"
    },
    "tags": []
   },
   "outputs": [
    {
     "data": {
      "text/html": [
       "<style type=\"text/css\">\n",
       "#T_c10af_row0_col0, #T_c10af_row0_col4, #T_c10af_row1_col4, #T_c10af_row2_col4, #T_c10af_row3_col4, #T_c10af_row4_col4 {\n",
       "  background-color: #3b4cc0;\n",
       "  color: #f1f1f1;\n",
       "}\n",
       "#T_c10af_row1_col0 {\n",
       "  background-color: #dddcdc;\n",
       "  color: #000000;\n",
       "}\n",
       "#T_c10af_row2_col0 {\n",
       "  background-color: #f7b89c;\n",
       "  color: #000000;\n",
       "}\n",
       "#T_c10af_row3_col0 {\n",
       "  background-color: #e7745b;\n",
       "  color: #f1f1f1;\n",
       "}\n",
       "#T_c10af_row4_col0 {\n",
       "  background-color: #b40426;\n",
       "  color: #f1f1f1;\n",
       "}\n",
       "</style>\n",
       "<table id=\"T_c10af_\">\n",
       "  <thead>\n",
       "    <tr>\n",
       "      <th class=\"blank level0\" >&nbsp;</th>\n",
       "      <th class=\"col_heading level0 col0\" >id</th>\n",
       "      <th class=\"col_heading level0 col1\" >keyword</th>\n",
       "      <th class=\"col_heading level0 col2\" >location</th>\n",
       "      <th class=\"col_heading level0 col3\" >text</th>\n",
       "      <th class=\"col_heading level0 col4\" >target</th>\n",
       "    </tr>\n",
       "  </thead>\n",
       "  <tbody>\n",
       "    <tr>\n",
       "      <th id=\"T_c10af_level0_row0\" class=\"row_heading level0 row0\" >0</th>\n",
       "      <td id=\"T_c10af_row0_col0\" class=\"data row0 col0\" >1</td>\n",
       "      <td id=\"T_c10af_row0_col1\" class=\"data row0 col1\" >nan</td>\n",
       "      <td id=\"T_c10af_row0_col2\" class=\"data row0 col2\" >nan</td>\n",
       "      <td id=\"T_c10af_row0_col3\" class=\"data row0 col3\" >Our Deeds are the Reason of this #earthquake May ALLAH Forgive us all</td>\n",
       "      <td id=\"T_c10af_row0_col4\" class=\"data row0 col4\" >1</td>\n",
       "    </tr>\n",
       "    <tr>\n",
       "      <th id=\"T_c10af_level0_row1\" class=\"row_heading level0 row1\" >1</th>\n",
       "      <td id=\"T_c10af_row1_col0\" class=\"data row1 col0\" >4</td>\n",
       "      <td id=\"T_c10af_row1_col1\" class=\"data row1 col1\" >nan</td>\n",
       "      <td id=\"T_c10af_row1_col2\" class=\"data row1 col2\" >nan</td>\n",
       "      <td id=\"T_c10af_row1_col3\" class=\"data row1 col3\" >Forest fire near La Ronge Sask. Canada</td>\n",
       "      <td id=\"T_c10af_row1_col4\" class=\"data row1 col4\" >1</td>\n",
       "    </tr>\n",
       "    <tr>\n",
       "      <th id=\"T_c10af_level0_row2\" class=\"row_heading level0 row2\" >2</th>\n",
       "      <td id=\"T_c10af_row2_col0\" class=\"data row2 col0\" >5</td>\n",
       "      <td id=\"T_c10af_row2_col1\" class=\"data row2 col1\" >nan</td>\n",
       "      <td id=\"T_c10af_row2_col2\" class=\"data row2 col2\" >nan</td>\n",
       "      <td id=\"T_c10af_row2_col3\" class=\"data row2 col3\" >All residents asked to 'shelter in place' are being notified by officers. No other evacuation or shelter in place orders are expected</td>\n",
       "      <td id=\"T_c10af_row2_col4\" class=\"data row2 col4\" >1</td>\n",
       "    </tr>\n",
       "    <tr>\n",
       "      <th id=\"T_c10af_level0_row3\" class=\"row_heading level0 row3\" >3</th>\n",
       "      <td id=\"T_c10af_row3_col0\" class=\"data row3 col0\" >6</td>\n",
       "      <td id=\"T_c10af_row3_col1\" class=\"data row3 col1\" >nan</td>\n",
       "      <td id=\"T_c10af_row3_col2\" class=\"data row3 col2\" >nan</td>\n",
       "      <td id=\"T_c10af_row3_col3\" class=\"data row3 col3\" >13,000 people receive #wildfires evacuation orders in California </td>\n",
       "      <td id=\"T_c10af_row3_col4\" class=\"data row3 col4\" >1</td>\n",
       "    </tr>\n",
       "    <tr>\n",
       "      <th id=\"T_c10af_level0_row4\" class=\"row_heading level0 row4\" >4</th>\n",
       "      <td id=\"T_c10af_row4_col0\" class=\"data row4 col0\" >7</td>\n",
       "      <td id=\"T_c10af_row4_col1\" class=\"data row4 col1\" >nan</td>\n",
       "      <td id=\"T_c10af_row4_col2\" class=\"data row4 col2\" >nan</td>\n",
       "      <td id=\"T_c10af_row4_col3\" class=\"data row4 col3\" >Just got sent this photo from Ruby #Alaska as smoke from #wildfires pours into a school </td>\n",
       "      <td id=\"T_c10af_row4_col4\" class=\"data row4 col4\" >1</td>\n",
       "    </tr>\n",
       "  </tbody>\n",
       "</table>\n"
      ],
      "text/plain": [
       "<pandas.io.formats.style.Styler at 0x7ff320a970d0>"
      ]
     },
     "execution_count": 4,
     "metadata": {},
     "output_type": "execute_result"
    }
   ],
   "source": [
    "train_data.head().style.background_gradient(cmap='coolwarm')"
   ]
  },
  {
   "cell_type": "code",
   "execution_count": 5,
   "id": "c61f8cc7",
   "metadata": {
    "execution": {
     "iopub.execute_input": "2023-03-17T09:22:32.709831Z",
     "iopub.status.busy": "2023-03-17T09:22:32.708919Z",
     "iopub.status.idle": "2023-03-17T09:22:32.715253Z",
     "shell.execute_reply": "2023-03-17T09:22:32.713646Z"
    },
    "papermill": {
     "duration": 0.023054,
     "end_time": "2023-03-17T09:22:32.717509",
     "exception": false,
     "start_time": "2023-03-17T09:22:32.694455",
     "status": "completed"
    },
    "tags": []
   },
   "outputs": [
    {
     "name": "stdout",
     "output_type": "stream",
     "text": [
      "Number of rows is =  7613  \n",
      "Number of columns is =  5\n"
     ]
    }
   ],
   "source": [
    "print(\"Number of rows is = \", train_data.shape[0], \" \\nNumber of columns is = \" , train_data.shape[1]) "
   ]
  },
  {
   "cell_type": "code",
   "execution_count": 6,
   "id": "83c5f13d",
   "metadata": {
    "execution": {
     "iopub.execute_input": "2023-03-17T09:22:32.746281Z",
     "iopub.status.busy": "2023-03-17T09:22:32.745717Z",
     "iopub.status.idle": "2023-03-17T09:22:32.765874Z",
     "shell.execute_reply": "2023-03-17T09:22:32.764544Z"
    },
    "papermill": {
     "duration": 0.037094,
     "end_time": "2023-03-17T09:22:32.767880",
     "exception": false,
     "start_time": "2023-03-17T09:22:32.730786",
     "status": "completed"
    },
    "tags": []
   },
   "outputs": [
    {
     "data": {
      "text/html": [
       "<div>\n",
       "<style scoped>\n",
       "    .dataframe tbody tr th:only-of-type {\n",
       "        vertical-align: middle;\n",
       "    }\n",
       "\n",
       "    .dataframe tbody tr th {\n",
       "        vertical-align: top;\n",
       "    }\n",
       "\n",
       "    .dataframe thead th {\n",
       "        text-align: right;\n",
       "    }\n",
       "</style>\n",
       "<table border=\"1\" class=\"dataframe\">\n",
       "  <thead>\n",
       "    <tr style=\"text-align: right;\">\n",
       "      <th></th>\n",
       "      <th>id</th>\n",
       "      <th>keyword</th>\n",
       "      <th>location</th>\n",
       "      <th>text</th>\n",
       "      <th>target</th>\n",
       "    </tr>\n",
       "  </thead>\n",
       "  <tbody>\n",
       "    <tr>\n",
       "      <th>0</th>\n",
       "      <td>1</td>\n",
       "      <td>NaN</td>\n",
       "      <td>NaN</td>\n",
       "      <td>Our Deeds are the Reason of this #earthquake M...</td>\n",
       "      <td>1</td>\n",
       "    </tr>\n",
       "    <tr>\n",
       "      <th>1</th>\n",
       "      <td>4</td>\n",
       "      <td>NaN</td>\n",
       "      <td>NaN</td>\n",
       "      <td>Forest fire near La Ronge Sask. Canada</td>\n",
       "      <td>1</td>\n",
       "    </tr>\n",
       "    <tr>\n",
       "      <th>2</th>\n",
       "      <td>5</td>\n",
       "      <td>NaN</td>\n",
       "      <td>NaN</td>\n",
       "      <td>All residents asked to 'shelter in place' are ...</td>\n",
       "      <td>1</td>\n",
       "    </tr>\n",
       "    <tr>\n",
       "      <th>3</th>\n",
       "      <td>6</td>\n",
       "      <td>NaN</td>\n",
       "      <td>NaN</td>\n",
       "      <td>13,000 people receive #wildfires evacuation or...</td>\n",
       "      <td>1</td>\n",
       "    </tr>\n",
       "    <tr>\n",
       "      <th>4</th>\n",
       "      <td>7</td>\n",
       "      <td>NaN</td>\n",
       "      <td>NaN</td>\n",
       "      <td>Just got sent this photo from Ruby #Alaska as ...</td>\n",
       "      <td>1</td>\n",
       "    </tr>\n",
       "  </tbody>\n",
       "</table>\n",
       "</div>"
      ],
      "text/plain": [
       "   id keyword location                                               text  \\\n",
       "0   1     NaN      NaN  Our Deeds are the Reason of this #earthquake M...   \n",
       "1   4     NaN      NaN             Forest fire near La Ronge Sask. Canada   \n",
       "2   5     NaN      NaN  All residents asked to 'shelter in place' are ...   \n",
       "3   6     NaN      NaN  13,000 people receive #wildfires evacuation or...   \n",
       "4   7     NaN      NaN  Just got sent this photo from Ruby #Alaska as ...   \n",
       "\n",
       "   target  \n",
       "0       1  \n",
       "1       1  \n",
       "2       1  \n",
       "3       1  \n",
       "4       1  "
      ]
     },
     "execution_count": 6,
     "metadata": {},
     "output_type": "execute_result"
    }
   ],
   "source": [
    "train_data.head()"
   ]
  },
  {
   "cell_type": "markdown",
   "id": "b0c28c65",
   "metadata": {
    "papermill": {
     "duration": 0.013098,
     "end_time": "2023-03-17T09:22:32.794599",
     "exception": false,
     "start_time": "2023-03-17T09:22:32.781501",
     "status": "completed"
    },
    "tags": []
   },
   "source": [
    "DATA ANALYSIS AND VISUALIZATION"
   ]
  },
  {
   "cell_type": "code",
   "execution_count": 7,
   "id": "19c68ef9",
   "metadata": {
    "execution": {
     "iopub.execute_input": "2023-03-17T09:22:32.823929Z",
     "iopub.status.busy": "2023-03-17T09:22:32.823296Z",
     "iopub.status.idle": "2023-03-17T09:22:32.832157Z",
     "shell.execute_reply": "2023-03-17T09:22:32.830796Z"
    },
    "papermill": {
     "duration": 0.026805,
     "end_time": "2023-03-17T09:22:32.835110",
     "exception": false,
     "start_time": "2023-03-17T09:22:32.808305",
     "status": "completed"
    },
    "tags": []
   },
   "outputs": [
    {
     "data": {
      "text/plain": [
       "0    4342\n",
       "1    3271\n",
       "Name: target, dtype: int64"
      ]
     },
     "execution_count": 7,
     "metadata": {},
     "output_type": "execute_result"
    }
   ],
   "source": [
    "train_data['target'].value_counts()"
   ]
  },
  {
   "cell_type": "code",
   "execution_count": 8,
   "id": "21f0a9fb",
   "metadata": {
    "execution": {
     "iopub.execute_input": "2023-03-17T09:22:32.865303Z",
     "iopub.status.busy": "2023-03-17T09:22:32.864483Z",
     "iopub.status.idle": "2023-03-17T09:22:33.019319Z",
     "shell.execute_reply": "2023-03-17T09:22:33.018522Z"
    },
    "papermill": {
     "duration": 0.172097,
     "end_time": "2023-03-17T09:22:33.021348",
     "exception": false,
     "start_time": "2023-03-17T09:22:32.849251",
     "status": "completed"
    },
    "tags": []
   },
   "outputs": [
    {
     "data": {
      "text/plain": [
       "Text(0.5, 1.0, 'Target Distributions \\n (0: Non Disaster || 1: Disaster)')"
      ]
     },
     "execution_count": 8,
     "metadata": {},
     "output_type": "execute_result"
    },
    {
     "data": {
      "image/png": "[encoded data removed]",
      "text/plain": [
       "<Figure size 500x300 with 1 Axes>"
      ]
     },
     "metadata": {},
     "output_type": "display_data"
    }
   ],
   "source": [
    "plt.figure(figsize=(5,3))\n",
    "colors = [\"blue\", \"red\"]\n",
    "\n",
    "sns.countplot(x = 'target', data=train_data, palette=colors)\n",
    "plt.title('Target Distributions \\n (0: Non Disaster || 1: Disaster)', fontsize=14)"
   ]
  },
  {
   "cell_type": "code",
   "execution_count": 9,
   "id": "58718937",
   "metadata": {
    "execution": {
     "iopub.execute_input": "2023-03-17T09:22:33.056175Z",
     "iopub.status.busy": "2023-03-17T09:22:33.055798Z",
     "iopub.status.idle": "2023-03-17T09:22:33.062949Z",
     "shell.execute_reply": "2023-03-17T09:22:33.061656Z"
    },
    "papermill": {
     "duration": 0.025389,
     "end_time": "2023-03-17T09:22:33.064727",
     "exception": false,
     "start_time": "2023-03-17T09:22:33.039338",
     "status": "completed"
    },
    "tags": []
   },
   "outputs": [
    {
     "data": {
      "text/plain": [
       "221"
      ]
     },
     "execution_count": 9,
     "metadata": {},
     "output_type": "execute_result"
    }
   ],
   "source": [
    "# KEYWORDS\n",
    "train_data[\"keyword\"].nunique()"
   ]
  },
  {
   "cell_type": "code",
   "execution_count": 10,
   "id": "fc683c9a",
   "metadata": {
    "execution": {
     "iopub.execute_input": "2023-03-17T09:22:33.094916Z",
     "iopub.status.busy": "2023-03-17T09:22:33.094281Z",
     "iopub.status.idle": "2023-03-17T09:22:33.362539Z",
     "shell.execute_reply": "2023-03-17T09:22:33.361806Z"
    },
    "papermill": {
     "duration": 0.285372,
     "end_time": "2023-03-17T09:22:33.364408",
     "exception": false,
     "start_time": "2023-03-17T09:22:33.079036",
     "status": "completed"
    },
    "tags": []
   },
   "outputs": [
    {
     "data": {
      "text/plain": [
       "Text(0.5, 0, 'Count of Keywords')"
      ]
     },
     "execution_count": 10,
     "metadata": {},
     "output_type": "execute_result"
    },
    {
     "data": {
      "image/png": "[encoded data removed]",
      "text/plain": [
       "<Figure size 640x480 with 1 Axes>"
      ]
     },
     "metadata": {},
     "output_type": "display_data"
    }
   ],
   "source": [
    "# TOP 20 KEYWORDS\n",
    "chains=train_data['keyword'].value_counts()[:20]\n",
    "sns.barplot(x=chains,y=chains.index,palette='deep')\n",
    "plt.title(\"Top 20 Keywords\")\n",
    "plt.xlabel(\"Count of Keywords\")"
   ]
  },
  {
   "cell_type": "code",
   "execution_count": 11,
   "id": "b4798dfa",
   "metadata": {
    "execution": {
     "iopub.execute_input": "2023-03-17T09:22:33.396106Z",
     "iopub.status.busy": "2023-03-17T09:22:33.395568Z",
     "iopub.status.idle": "2023-03-17T09:22:34.057992Z",
     "shell.execute_reply": "2023-03-17T09:22:34.056971Z"
    },
    "papermill": {
     "duration": 0.682933,
     "end_time": "2023-03-17T09:22:34.062147",
     "exception": false,
     "start_time": "2023-03-17T09:22:33.379214",
     "status": "completed"
    },
    "tags": []
   },
   "outputs": [
    {
     "data": {
      "image/png": "[encoded data removed]",
      "text/plain": [
       "<Figure size 2000x800 with 2 Axes>"
      ]
     },
     "metadata": {},
     "output_type": "display_data"
    }
   ],
   "source": [
    "# TOP 20 DISASTER AND NON-DISASTER KEYWORDS\n",
    "disaster_keywords = train_data.loc[train_data[\"target\"] == 1][\"keyword\"].value_counts()\n",
    "nondisaster_keywords = train_data.loc[train_data[\"target\"] == 0][\"keyword\"].value_counts()\n",
    "\n",
    "fig, ax = plt.subplots(1,2, figsize=(20,8))\n",
    "sns.barplot(y=disaster_keywords[0:20].index, x=disaster_keywords[0:20], orient='h', ax=ax[0], palette=\"Reds_d\")\n",
    "ax[0].set_title(\"Top 20 Keywords - Disaster Tweets\")\n",
    "ax[0].set_xlabel(\"Keyword Frequency\")\n",
    "\n",
    "sns.barplot(y=nondisaster_keywords[0:20].index, x=nondisaster_keywords[0:20], orient='h', ax=ax[1], palette=\"Blues_d\")\n",
    "ax[1].set_title(\"Top 20 Keywords - Non-Disaster Tweets\")\n",
    "ax[1].set_xlabel(\"Keyword Frequency\")\n",
    "\n",
    "\n",
    "plt.tight_layout()\n",
    "plt.show()"
   ]
  },
  {
   "cell_type": "code",
   "execution_count": 12,
   "id": "87a12f3d",
   "metadata": {
    "execution": {
     "iopub.execute_input": "2023-03-17T09:22:34.103281Z",
     "iopub.status.busy": "2023-03-17T09:22:34.102848Z",
     "iopub.status.idle": "2023-03-17T09:22:34.119258Z",
     "shell.execute_reply": "2023-03-17T09:22:34.117779Z"
    },
    "papermill": {
     "duration": 0.039396,
     "end_time": "2023-03-17T09:22:34.122302",
     "exception": false,
     "start_time": "2023-03-17T09:22:34.082906",
     "status": "completed"
    },
    "tags": []
   },
   "outputs": [],
   "source": [
    "# HIGHEST AND LOWEST USAGE KEYWORD\n",
    "top_disaster_keyword = train_data.groupby('keyword').mean()['target'].sort_values(ascending = False).head(20)\n",
    "top_nondisaster_keyword = train_data.groupby('keyword').mean()['target'].sort_values().head(20)"
   ]
  },
  {
   "cell_type": "code",
   "execution_count": 13,
   "id": "f3c00789",
   "metadata": {
    "execution": {
     "iopub.execute_input": "2023-03-17T09:22:34.156313Z",
     "iopub.status.busy": "2023-03-17T09:22:34.155939Z",
     "iopub.status.idle": "2023-03-17T09:22:34.838455Z",
     "shell.execute_reply": "2023-03-17T09:22:34.837186Z"
    },
    "papermill": {
     "duration": 0.702355,
     "end_time": "2023-03-17T09:22:34.840835",
     "exception": false,
     "start_time": "2023-03-17T09:22:34.138480",
     "status": "completed"
    },
    "tags": []
   },
   "outputs": [
    {
     "data": {
      "image/png": "[encoded data removed]",
      "text/plain": [
       "<Figure size 2000x800 with 2 Axes>"
      ]
     },
     "metadata": {},
     "output_type": "display_data"
    }
   ],
   "source": [
    "fig, ax = plt.subplots(1,2, figsize=(20,8))\n",
    "\n",
    "sns.barplot(y=top_disaster_keyword[0:20].index, x=disaster_keywords[0:20], orient='h', ax=ax[0], palette=\"Reds_d\")\n",
    "ax[0].set_title(\"Top 20 Keywords - Highest used Disaster Keyword\")\n",
    "ax[0].set_xlabel(\"Keyword Frequency\")\n",
    "\n",
    "\n",
    "sns.barplot(y=top_nondisaster_keyword[0:20].index, x=top_nondisaster_keyword[0:20], orient='h', ax=ax[1], palette=\"Blues_d\")\n",
    "ax[1].set_title(\"Top 20 Keywords - Least used Non-Disaster Tweets\")\n",
    "ax[1].set_xlabel(\"Keyword Frequency\")\n",
    "\n",
    "\n",
    "plt.tight_layout()\n",
    "plt.show()"
   ]
  },
  {
   "cell_type": "code",
   "execution_count": 14,
   "id": "1848ee99",
   "metadata": {
    "execution": {
     "iopub.execute_input": "2023-03-17T09:22:34.876454Z",
     "iopub.status.busy": "2023-03-17T09:22:34.876056Z",
     "iopub.status.idle": "2023-03-17T09:22:34.884408Z",
     "shell.execute_reply": "2023-03-17T09:22:34.883146Z"
    },
    "papermill": {
     "duration": 0.028805,
     "end_time": "2023-03-17T09:22:34.886576",
     "exception": false,
     "start_time": "2023-03-17T09:22:34.857771",
     "status": "completed"
    },
    "tags": []
   },
   "outputs": [],
   "source": [
    "# TWEET LOCATION\n",
    "locations = train_data[\"location\"].value_counts()"
   ]
  },
  {
   "cell_type": "code",
   "execution_count": 15,
   "id": "1a9637fa",
   "metadata": {
    "execution": {
     "iopub.execute_input": "2023-03-17T09:22:34.922683Z",
     "iopub.status.busy": "2023-03-17T09:22:34.922320Z",
     "iopub.status.idle": "2023-03-17T09:22:35.199346Z",
     "shell.execute_reply": "2023-03-17T09:22:35.197711Z"
    },
    "papermill": {
     "duration": 0.298007,
     "end_time": "2023-03-17T09:22:35.201799",
     "exception": false,
     "start_time": "2023-03-17T09:22:34.903792",
     "status": "completed"
    },
    "tags": []
   },
   "outputs": [
    {
     "data": {
      "image/png": "[encoded data removed]",
      "text/plain": [
       "<Figure size 1000x700 with 1 Axes>"
      ]
     },
     "metadata": {},
     "output_type": "display_data"
    }
   ],
   "source": [
    "plt.figure(figsize=(10,7))\n",
    "\n",
    "\n",
    "sns.barplot(y=locations[0:20].index, x=locations[0:20], orient='h')\n",
    "\n",
    "plt.title(\"Top 20 Locations\")\n",
    "plt.show()"
   ]
  },
  {
   "cell_type": "code",
   "execution_count": 16,
   "id": "15c8261a",
   "metadata": {
    "execution": {
     "iopub.execute_input": "2023-03-17T09:22:35.238561Z",
     "iopub.status.busy": "2023-03-17T09:22:35.238190Z",
     "iopub.status.idle": "2023-03-17T09:22:35.244348Z",
     "shell.execute_reply": "2023-03-17T09:22:35.242885Z"
    },
    "papermill": {
     "duration": 0.026972,
     "end_time": "2023-03-17T09:22:35.246703",
     "exception": false,
     "start_time": "2023-03-17T09:22:35.219731",
     "status": "completed"
    },
    "tags": []
   },
   "outputs": [
    {
     "name": "stdout",
     "output_type": "stream",
     "text": [
      "7613\n"
     ]
    }
   ],
   "source": [
    "print(len(train_data['text']))"
   ]
  },
  {
   "cell_type": "code",
   "execution_count": 17,
   "id": "ed8839d5",
   "metadata": {
    "execution": {
     "iopub.execute_input": "2023-03-17T09:22:35.283356Z",
     "iopub.status.busy": "2023-03-17T09:22:35.283017Z",
     "iopub.status.idle": "2023-03-17T09:22:35.298712Z",
     "shell.execute_reply": "2023-03-17T09:22:35.297448Z"
    },
    "papermill": {
     "duration": 0.036644,
     "end_time": "2023-03-17T09:22:35.300756",
     "exception": false,
     "start_time": "2023-03-17T09:22:35.264112",
     "status": "completed"
    },
    "tags": []
   },
   "outputs": [
    {
     "data": {
      "text/html": [
       "<div>\n",
       "<style scoped>\n",
       "    .dataframe tbody tr th:only-of-type {\n",
       "        vertical-align: middle;\n",
       "    }\n",
       "\n",
       "    .dataframe tbody tr th {\n",
       "        vertical-align: top;\n",
       "    }\n",
       "\n",
       "    .dataframe thead th {\n",
       "        text-align: right;\n",
       "    }\n",
       "</style>\n",
       "<table border=\"1\" class=\"dataframe\">\n",
       "  <thead>\n",
       "    <tr style=\"text-align: right;\">\n",
       "      <th></th>\n",
       "      <th>id</th>\n",
       "      <th>keyword</th>\n",
       "      <th>location</th>\n",
       "      <th>text</th>\n",
       "      <th>target</th>\n",
       "      <th>length</th>\n",
       "    </tr>\n",
       "  </thead>\n",
       "  <tbody>\n",
       "    <tr>\n",
       "      <th>0</th>\n",
       "      <td>1</td>\n",
       "      <td>NaN</td>\n",
       "      <td>NaN</td>\n",
       "      <td>Our Deeds are the Reason of this #earthquake M...</td>\n",
       "      <td>1</td>\n",
       "      <td>69</td>\n",
       "    </tr>\n",
       "    <tr>\n",
       "      <th>1</th>\n",
       "      <td>4</td>\n",
       "      <td>NaN</td>\n",
       "      <td>NaN</td>\n",
       "      <td>Forest fire near La Ronge Sask. Canada</td>\n",
       "      <td>1</td>\n",
       "      <td>38</td>\n",
       "    </tr>\n",
       "    <tr>\n",
       "      <th>2</th>\n",
       "      <td>5</td>\n",
       "      <td>NaN</td>\n",
       "      <td>NaN</td>\n",
       "      <td>All residents asked to 'shelter in place' are ...</td>\n",
       "      <td>1</td>\n",
       "      <td>133</td>\n",
       "    </tr>\n",
       "    <tr>\n",
       "      <th>3</th>\n",
       "      <td>6</td>\n",
       "      <td>NaN</td>\n",
       "      <td>NaN</td>\n",
       "      <td>13,000 people receive #wildfires evacuation or...</td>\n",
       "      <td>1</td>\n",
       "      <td>65</td>\n",
       "    </tr>\n",
       "    <tr>\n",
       "      <th>4</th>\n",
       "      <td>7</td>\n",
       "      <td>NaN</td>\n",
       "      <td>NaN</td>\n",
       "      <td>Just got sent this photo from Ruby #Alaska as ...</td>\n",
       "      <td>1</td>\n",
       "      <td>88</td>\n",
       "    </tr>\n",
       "  </tbody>\n",
       "</table>\n",
       "</div>"
      ],
      "text/plain": [
       "   id keyword location                                               text  \\\n",
       "0   1     NaN      NaN  Our Deeds are the Reason of this #earthquake M...   \n",
       "1   4     NaN      NaN             Forest fire near La Ronge Sask. Canada   \n",
       "2   5     NaN      NaN  All residents asked to 'shelter in place' are ...   \n",
       "3   6     NaN      NaN  13,000 people receive #wildfires evacuation or...   \n",
       "4   7     NaN      NaN  Just got sent this photo from Ruby #Alaska as ...   \n",
       "\n",
       "   target  length  \n",
       "0       1      69  \n",
       "1       1      38  \n",
       "2       1     133  \n",
       "3       1      65  \n",
       "4       1      88  "
      ]
     },
     "execution_count": 17,
     "metadata": {},
     "output_type": "execute_result"
    }
   ],
   "source": [
    "train_data[\"length\"]  = train_data[\"text\"].apply(len)\n",
    "train_data.head()"
   ]
  },
  {
   "cell_type": "code",
   "execution_count": 18,
   "id": "43a3dc66",
   "metadata": {
    "execution": {
     "iopub.execute_input": "2023-03-17T09:22:35.338157Z",
     "iopub.status.busy": "2023-03-17T09:22:35.337822Z",
     "iopub.status.idle": "2023-03-17T09:22:35.349932Z",
     "shell.execute_reply": "2023-03-17T09:22:35.348870Z"
    },
    "papermill": {
     "duration": 0.033334,
     "end_time": "2023-03-17T09:22:35.351911",
     "exception": false,
     "start_time": "2023-03-17T09:22:35.318577",
     "status": "completed"
    },
    "tags": []
   },
   "outputs": [
    {
     "data": {
      "text/plain": [
       "count    7613.000000\n",
       "mean      101.037436\n",
       "std        33.781325\n",
       "min         7.000000\n",
       "25%        78.000000\n",
       "50%       107.000000\n",
       "75%       133.000000\n",
       "max       157.000000\n",
       "Name: length, dtype: float64"
      ]
     },
     "execution_count": 18,
     "metadata": {},
     "output_type": "execute_result"
    }
   ],
   "source": [
    "train_data['length'].describe()"
   ]
  },
  {
   "cell_type": "code",
   "execution_count": 19,
   "id": "c5d7a062",
   "metadata": {
    "execution": {
     "iopub.execute_input": "2023-03-17T09:22:35.389154Z",
     "iopub.status.busy": "2023-03-17T09:22:35.388778Z",
     "iopub.status.idle": "2023-03-17T09:22:35.396949Z",
     "shell.execute_reply": "2023-03-17T09:22:35.395707Z"
    },
    "papermill": {
     "duration": 0.02921,
     "end_time": "2023-03-17T09:22:35.398851",
     "exception": false,
     "start_time": "2023-03-17T09:22:35.369641",
     "status": "completed"
    },
    "tags": []
   },
   "outputs": [
    {
     "data": {
      "text/plain": [
       "\"when you're taking a shower and someone flushes the toilet and you have .1 second to GTFO or you get burned??????????????????????????????????????????????????\""
      ]
     },
     "execution_count": 19,
     "metadata": {},
     "output_type": "execute_result"
    }
   ],
   "source": [
    "train_data[train_data['length']==157]['text'].iloc[0]"
   ]
  },
  {
   "cell_type": "code",
   "execution_count": 20,
   "id": "40c43d0a",
   "metadata": {
    "execution": {
     "iopub.execute_input": "2023-03-17T09:22:35.436729Z",
     "iopub.status.busy": "2023-03-17T09:22:35.436344Z",
     "iopub.status.idle": "2023-03-17T09:22:35.681029Z",
     "shell.execute_reply": "2023-03-17T09:22:35.679618Z"
    },
    "papermill": {
     "duration": 0.266753,
     "end_time": "2023-03-17T09:22:35.683758",
     "exception": false,
     "start_time": "2023-03-17T09:22:35.417005",
     "status": "completed"
    },
    "tags": []
   },
   "outputs": [
    {
     "data": {
      "image/png": "[encoded data removed]",
      "text/plain": [
       "<Figure size 500x300 with 1 Axes>"
      ]
     },
     "metadata": {},
     "output_type": "display_data"
    }
   ],
   "source": [
    "# TWEET LENGTH\n",
    "plt.figure(figsize=(5,3))\n",
    "sns.histplot(train_data[\"length\"], kde=True,color='purple',bins=30)\n",
    "plt.title(\"Length of tweets\")\n",
    "plt.xlabel(\"Number of Characters\")\n",
    "plt.ylabel(\"Density\")\n",
    "plt.show()"
   ]
  },
  {
   "cell_type": "code",
   "execution_count": 21,
   "id": "6d00eecc",
   "metadata": {
    "execution": {
     "iopub.execute_input": "2023-03-17T09:22:35.723152Z",
     "iopub.status.busy": "2023-03-17T09:22:35.722761Z",
     "iopub.status.idle": "2023-03-17T09:22:36.189074Z",
     "shell.execute_reply": "2023-03-17T09:22:36.188155Z"
    },
    "papermill": {
     "duration": 0.489093,
     "end_time": "2023-03-17T09:22:36.191063",
     "exception": false,
     "start_time": "2023-03-17T09:22:35.701970",
     "status": "completed"
    },
    "tags": []
   },
   "outputs": [
    {
     "data": {
      "text/plain": [
       "array([<AxesSubplot:title={'center':'0'}>,\n",
       "       <AxesSubplot:title={'center':'1'}>], dtype=object)"
      ]
     },
     "execution_count": 21,
     "metadata": {},
     "output_type": "execute_result"
    },
    {
     "data": {
      "image/png": "[encoded data removed]",
      "text/plain": [
       "<Figure size 1000x300 with 2 Axes>"
      ]
     },
     "metadata": {},
     "output_type": "display_data"
    }
   ],
   "source": [
    "# TWEETS WRT TARGET\n",
    "train_data.hist(column='length', by = 'target',bins =60, figsize= (10,3))"
   ]
  },
  {
   "cell_type": "code",
   "execution_count": 22,
   "id": "bf68f314",
   "metadata": {
    "execution": {
     "iopub.execute_input": "2023-03-17T09:22:36.230742Z",
     "iopub.status.busy": "2023-03-17T09:22:36.229587Z",
     "iopub.status.idle": "2023-03-17T09:22:36.458874Z",
     "shell.execute_reply": "2023-03-17T09:22:36.457940Z"
    },
    "papermill": {
     "duration": 0.251097,
     "end_time": "2023-03-17T09:22:36.460768",
     "exception": false,
     "start_time": "2023-03-17T09:22:36.209671",
     "status": "completed"
    },
    "tags": []
   },
   "outputs": [
    {
     "data": {
      "image/png": "[encoded data removed]",
      "text/plain": [
       "<Figure size 500x300 with 1 Axes>"
      ]
     },
     "metadata": {},
     "output_type": "display_data"
    }
   ],
   "source": [
    "# WORD COUNT IN TWEET \n",
    "def count_words(x):\n",
    "    return len(x.split())\n",
    "\n",
    "train_data[\"num_words\"] = train_data[\"text\"].apply(count_words)\n",
    "\n",
    "plt.figure(figsize=(5,3))\n",
    "sns.histplot(train_data[\"num_words\"],kde=True,color='purple',bins=30)\n",
    "plt.title(\"Histogram of Number of Words per Tweet\")\n",
    "plt.xlabel(\"Number of Words\")\n",
    "plt.ylabel(\"Density\")\n",
    "plt.show()"
   ]
  },
  {
   "cell_type": "code",
   "execution_count": 23,
   "id": "47f11224",
   "metadata": {
    "execution": {
     "iopub.execute_input": "2023-03-17T09:22:36.501317Z",
     "iopub.status.busy": "2023-03-17T09:22:36.500137Z",
     "iopub.status.idle": "2023-03-17T09:22:36.918694Z",
     "shell.execute_reply": "2023-03-17T09:22:36.917280Z"
    },
    "papermill": {
     "duration": 0.441137,
     "end_time": "2023-03-17T09:22:36.920855",
     "exception": false,
     "start_time": "2023-03-17T09:22:36.479718",
     "status": "completed"
    },
    "tags": []
   },
   "outputs": [
    {
     "data": {
      "text/plain": [
       "array([<AxesSubplot:title={'center':'0'}>,\n",
       "       <AxesSubplot:title={'center':'1'}>], dtype=object)"
      ]
     },
     "execution_count": 23,
     "metadata": {},
     "output_type": "execute_result"
    },
    {
     "data": {
      "image/png": "[encoded data removed]",
      "text/plain": [
       "<Figure size 1000x300 with 2 Axes>"
      ]
     },
     "metadata": {},
     "output_type": "display_data"
    }
   ],
   "source": [
    "# WORDS IN TWEET WRT TARGET\n",
    "train_data.hist(column='num_words', by = 'target',bins =60, figsize= (10,3))"
   ]
  },
  {
   "cell_type": "markdown",
   "id": "425b73bd",
   "metadata": {
    "papermill": {
     "duration": 0.019041,
     "end_time": "2023-03-17T09:22:36.959189",
     "exception": false,
     "start_time": "2023-03-17T09:22:36.940148",
     "status": "completed"
    },
    "tags": []
   },
   "source": [
    "TEXT-PREPROCESSING"
   ]
  },
  {
   "cell_type": "code",
   "execution_count": 24,
   "id": "07f49500",
   "metadata": {
    "execution": {
     "iopub.execute_input": "2023-03-17T09:22:36.999693Z",
     "iopub.status.busy": "2023-03-17T09:22:36.999294Z",
     "iopub.status.idle": "2023-03-17T09:22:37.005484Z",
     "shell.execute_reply": "2023-03-17T09:22:37.004433Z"
    },
    "papermill": {
     "duration": 0.028963,
     "end_time": "2023-03-17T09:22:37.007464",
     "exception": false,
     "start_time": "2023-03-17T09:22:36.978501",
     "status": "completed"
    },
    "tags": []
   },
   "outputs": [
    {
     "data": {
      "text/plain": [
       "'!\"#$%&\\'()*+,-./:;<=>?@[\\\\]^_`{|}~'"
      ]
     },
     "execution_count": 24,
     "metadata": {},
     "output_type": "execute_result"
    }
   ],
   "source": [
    "# REMOVING PUNCTUATIONS\n",
    "string.punctuation\n"
   ]
  },
  {
   "cell_type": "code",
   "execution_count": 25,
   "id": "29d68e8c",
   "metadata": {
    "execution": {
     "iopub.execute_input": "2023-03-17T09:22:37.049165Z",
     "iopub.status.busy": "2023-03-17T09:22:37.048279Z",
     "iopub.status.idle": "2023-03-17T09:22:37.053892Z",
     "shell.execute_reply": "2023-03-17T09:22:37.052698Z"
    },
    "papermill": {
     "duration": 0.028942,
     "end_time": "2023-03-17T09:22:37.056285",
     "exception": false,
     "start_time": "2023-03-17T09:22:37.027343",
     "status": "completed"
    },
    "tags": []
   },
   "outputs": [],
   "source": [
    "def toclean_text(text):\n",
    "\n",
    "    \n",
    "    clean_text = [char for char in text if char not in string.punctuation]\n",
    "   \n",
    "    clean_text = ''.join(clean_text)\n",
    "    \n",
    "        \n",
    "    return clean_text"
   ]
  },
  {
   "cell_type": "code",
   "execution_count": 26,
   "id": "47badb3c",
   "metadata": {
    "execution": {
     "iopub.execute_input": "2023-03-17T09:22:37.096882Z",
     "iopub.status.busy": "2023-03-17T09:22:37.096486Z",
     "iopub.status.idle": "2023-03-17T09:22:37.197639Z",
     "shell.execute_reply": "2023-03-17T09:22:37.196621Z"
    },
    "papermill": {
     "duration": 0.124269,
     "end_time": "2023-03-17T09:22:37.199967",
     "exception": false,
     "start_time": "2023-03-17T09:22:37.075698",
     "status": "completed"
    },
    "tags": []
   },
   "outputs": [],
   "source": [
    "train_data['clean_text'] = train_data['text'].apply(toclean_text)"
   ]
  },
  {
   "cell_type": "code",
   "execution_count": 27,
   "id": "4a419d64",
   "metadata": {
    "execution": {
     "iopub.execute_input": "2023-03-17T09:22:37.240976Z",
     "iopub.status.busy": "2023-03-17T09:22:37.240569Z",
     "iopub.status.idle": "2023-03-17T09:22:37.253150Z",
     "shell.execute_reply": "2023-03-17T09:22:37.252080Z"
    },
    "papermill": {
     "duration": 0.036299,
     "end_time": "2023-03-17T09:22:37.255548",
     "exception": false,
     "start_time": "2023-03-17T09:22:37.219249",
     "status": "completed"
    },
    "tags": []
   },
   "outputs": [
    {
     "data": {
      "text/html": [
       "<div>\n",
       "<style scoped>\n",
       "    .dataframe tbody tr th:only-of-type {\n",
       "        vertical-align: middle;\n",
       "    }\n",
       "\n",
       "    .dataframe tbody tr th {\n",
       "        vertical-align: top;\n",
       "    }\n",
       "\n",
       "    .dataframe thead th {\n",
       "        text-align: right;\n",
       "    }\n",
       "</style>\n",
       "<table border=\"1\" class=\"dataframe\">\n",
       "  <thead>\n",
       "    <tr style=\"text-align: right;\">\n",
       "      <th></th>\n",
       "      <th>id</th>\n",
       "      <th>keyword</th>\n",
       "      <th>location</th>\n",
       "      <th>text</th>\n",
       "      <th>target</th>\n",
       "      <th>length</th>\n",
       "      <th>num_words</th>\n",
       "      <th>clean_text</th>\n",
       "    </tr>\n",
       "  </thead>\n",
       "  <tbody>\n",
       "    <tr>\n",
       "      <th>0</th>\n",
       "      <td>1</td>\n",
       "      <td>NaN</td>\n",
       "      <td>NaN</td>\n",
       "      <td>Our Deeds are the Reason of this #earthquake M...</td>\n",
       "      <td>1</td>\n",
       "      <td>69</td>\n",
       "      <td>13</td>\n",
       "      <td>Our Deeds are the Reason of this earthquake Ma...</td>\n",
       "    </tr>\n",
       "    <tr>\n",
       "      <th>1</th>\n",
       "      <td>4</td>\n",
       "      <td>NaN</td>\n",
       "      <td>NaN</td>\n",
       "      <td>Forest fire near La Ronge Sask. Canada</td>\n",
       "      <td>1</td>\n",
       "      <td>38</td>\n",
       "      <td>7</td>\n",
       "      <td>Forest fire near La Ronge Sask Canada</td>\n",
       "    </tr>\n",
       "    <tr>\n",
       "      <th>2</th>\n",
       "      <td>5</td>\n",
       "      <td>NaN</td>\n",
       "      <td>NaN</td>\n",
       "      <td>All residents asked to 'shelter in place' are ...</td>\n",
       "      <td>1</td>\n",
       "      <td>133</td>\n",
       "      <td>22</td>\n",
       "      <td>All residents asked to shelter in place are be...</td>\n",
       "    </tr>\n",
       "    <tr>\n",
       "      <th>3</th>\n",
       "      <td>6</td>\n",
       "      <td>NaN</td>\n",
       "      <td>NaN</td>\n",
       "      <td>13,000 people receive #wildfires evacuation or...</td>\n",
       "      <td>1</td>\n",
       "      <td>65</td>\n",
       "      <td>8</td>\n",
       "      <td>13000 people receive wildfires evacuation orde...</td>\n",
       "    </tr>\n",
       "    <tr>\n",
       "      <th>4</th>\n",
       "      <td>7</td>\n",
       "      <td>NaN</td>\n",
       "      <td>NaN</td>\n",
       "      <td>Just got sent this photo from Ruby #Alaska as ...</td>\n",
       "      <td>1</td>\n",
       "      <td>88</td>\n",
       "      <td>16</td>\n",
       "      <td>Just got sent this photo from Ruby Alaska as s...</td>\n",
       "    </tr>\n",
       "  </tbody>\n",
       "</table>\n",
       "</div>"
      ],
      "text/plain": [
       "   id keyword location                                               text  \\\n",
       "0   1     NaN      NaN  Our Deeds are the Reason of this #earthquake M...   \n",
       "1   4     NaN      NaN             Forest fire near La Ronge Sask. Canada   \n",
       "2   5     NaN      NaN  All residents asked to 'shelter in place' are ...   \n",
       "3   6     NaN      NaN  13,000 people receive #wildfires evacuation or...   \n",
       "4   7     NaN      NaN  Just got sent this photo from Ruby #Alaska as ...   \n",
       "\n",
       "   target  length  num_words  \\\n",
       "0       1      69         13   \n",
       "1       1      38          7   \n",
       "2       1     133         22   \n",
       "3       1      65          8   \n",
       "4       1      88         16   \n",
       "\n",
       "                                          clean_text  \n",
       "0  Our Deeds are the Reason of this earthquake Ma...  \n",
       "1              Forest fire near La Ronge Sask Canada  \n",
       "2  All residents asked to shelter in place are be...  \n",
       "3  13000 people receive wildfires evacuation orde...  \n",
       "4  Just got sent this photo from Ruby Alaska as s...  "
      ]
     },
     "execution_count": 27,
     "metadata": {},
     "output_type": "execute_result"
    }
   ],
   "source": [
    "train_data.head()"
   ]
  },
  {
   "cell_type": "code",
   "execution_count": 28,
   "id": "7fb74e3f",
   "metadata": {
    "execution": {
     "iopub.execute_input": "2023-03-17T09:22:37.296909Z",
     "iopub.status.busy": "2023-03-17T09:22:37.296564Z",
     "iopub.status.idle": "2023-03-17T09:22:37.309186Z",
     "shell.execute_reply": "2023-03-17T09:22:37.307563Z"
    },
    "papermill": {
     "duration": 0.036244,
     "end_time": "2023-03-17T09:22:37.311560",
     "exception": false,
     "start_time": "2023-03-17T09:22:37.275316",
     "status": "completed"
    },
    "tags": []
   },
   "outputs": [
    {
     "name": "stdout",
     "output_type": "stream",
     "text": [
      "['i', 'me', 'my', 'myself', 'we', 'our', 'ours', 'ourselves', 'you', \"you're\", \"you've\", \"you'll\", \"you'd\", 'your', 'yours', 'yourself', 'yourselves', 'he', 'him', 'his', 'himself', 'she', \"she's\", 'her', 'hers', 'herself', 'it', \"it's\", 'its', 'itself', 'they', 'them', 'their', 'theirs', 'themselves', 'what', 'which', 'who', 'whom', 'this', 'that', \"that'll\", 'these', 'those', 'am', 'is', 'are', 'was', 'were', 'be', 'been', 'being', 'have', 'has', 'had', 'having', 'do', 'does', 'did', 'doing', 'a', 'an', 'the', 'and', 'but', 'if', 'or', 'because', 'as', 'until', 'while', 'of', 'at', 'by', 'for', 'with', 'about', 'against', 'between', 'into', 'through', 'during', 'before', 'after', 'above', 'below', 'to', 'from', 'up', 'down', 'in', 'out', 'on', 'off', 'over', 'under', 'again', 'further', 'then', 'once', 'here', 'there', 'when', 'where', 'why', 'how', 'all', 'any', 'both', 'each', 'few', 'more', 'most', 'other', 'some', 'such', 'no', 'nor', 'not', 'only', 'own', 'same', 'so', 'than', 'too', 'very', 's', 't', 'can', 'will', 'just', 'don', \"don't\", 'should', \"should've\", 'now', 'd', 'll', 'm', 'o', 're', 've', 'y', 'ain', 'aren', \"aren't\", 'couldn', \"couldn't\", 'didn', \"didn't\", 'doesn', \"doesn't\", 'hadn', \"hadn't\", 'hasn', \"hasn't\", 'haven', \"haven't\", 'isn', \"isn't\", 'ma', 'mightn', \"mightn't\", 'mustn', \"mustn't\", 'needn', \"needn't\", 'shan', \"shan't\", 'shouldn', \"shouldn't\", 'wasn', \"wasn't\", 'weren', \"weren't\", 'won', \"won't\", 'wouldn', \"wouldn't\"]\n"
     ]
    }
   ],
   "source": [
    "# REMOVING STOPWORDS\n",
    "print(stopwords.words('english'))"
   ]
  },
  {
   "cell_type": "code",
   "execution_count": 29,
   "id": "7307520c",
   "metadata": {
    "execution": {
     "iopub.execute_input": "2023-03-17T09:22:37.354150Z",
     "iopub.status.busy": "2023-03-17T09:22:37.353829Z",
     "iopub.status.idle": "2023-03-17T09:22:37.359288Z",
     "shell.execute_reply": "2023-03-17T09:22:37.358005Z"
    },
    "papermill": {
     "duration": 0.030033,
     "end_time": "2023-03-17T09:22:37.361809",
     "exception": false,
     "start_time": "2023-03-17T09:22:37.331776",
     "status": "completed"
    },
    "tags": []
   },
   "outputs": [],
   "source": [
    "def toremove_stopword(text):\n",
    "    remove_stopword = [word for word in text.split() if word.lower() not in stopwords.words('english')]\n",
    "\n",
    "    return remove_stopword"
   ]
  },
  {
   "cell_type": "code",
   "execution_count": 30,
   "id": "04884da7",
   "metadata": {
    "execution": {
     "iopub.execute_input": "2023-03-17T09:22:37.402681Z",
     "iopub.status.busy": "2023-03-17T09:22:37.402289Z",
     "iopub.status.idle": "2023-03-17T09:22:49.265975Z",
     "shell.execute_reply": "2023-03-17T09:22:49.264729Z"
    },
    "papermill": {
     "duration": 11.886786,
     "end_time": "2023-03-17T09:22:49.268330",
     "exception": false,
     "start_time": "2023-03-17T09:22:37.381544",
     "status": "completed"
    },
    "tags": []
   },
   "outputs": [],
   "source": [
    "train_data['clean_text'] = train_data['clean_text'].apply(toremove_stopword)"
   ]
  },
  {
   "cell_type": "code",
   "execution_count": 31,
   "id": "218b66df",
   "metadata": {
    "execution": {
     "iopub.execute_input": "2023-03-17T09:22:49.310342Z",
     "iopub.status.busy": "2023-03-17T09:22:49.310005Z",
     "iopub.status.idle": "2023-03-17T09:22:49.326609Z",
     "shell.execute_reply": "2023-03-17T09:22:49.324984Z"
    },
    "papermill": {
     "duration": 0.041025,
     "end_time": "2023-03-17T09:22:49.329559",
     "exception": false,
     "start_time": "2023-03-17T09:22:49.288534",
     "status": "completed"
    },
    "tags": []
   },
   "outputs": [
    {
     "data": {
      "text/html": [
       "<div>\n",
       "<style scoped>\n",
       "    .dataframe tbody tr th:only-of-type {\n",
       "        vertical-align: middle;\n",
       "    }\n",
       "\n",
       "    .dataframe tbody tr th {\n",
       "        vertical-align: top;\n",
       "    }\n",
       "\n",
       "    .dataframe thead th {\n",
       "        text-align: right;\n",
       "    }\n",
       "</style>\n",
       "<table border=\"1\" class=\"dataframe\">\n",
       "  <thead>\n",
       "    <tr style=\"text-align: right;\">\n",
       "      <th></th>\n",
       "      <th>id</th>\n",
       "      <th>keyword</th>\n",
       "      <th>location</th>\n",
       "      <th>text</th>\n",
       "      <th>target</th>\n",
       "      <th>length</th>\n",
       "      <th>num_words</th>\n",
       "      <th>clean_text</th>\n",
       "    </tr>\n",
       "  </thead>\n",
       "  <tbody>\n",
       "    <tr>\n",
       "      <th>0</th>\n",
       "      <td>1</td>\n",
       "      <td>NaN</td>\n",
       "      <td>NaN</td>\n",
       "      <td>Our Deeds are the Reason of this #earthquake M...</td>\n",
       "      <td>1</td>\n",
       "      <td>69</td>\n",
       "      <td>13</td>\n",
       "      <td>[Deeds, Reason, earthquake, May, ALLAH, Forgiv...</td>\n",
       "    </tr>\n",
       "    <tr>\n",
       "      <th>1</th>\n",
       "      <td>4</td>\n",
       "      <td>NaN</td>\n",
       "      <td>NaN</td>\n",
       "      <td>Forest fire near La Ronge Sask. Canada</td>\n",
       "      <td>1</td>\n",
       "      <td>38</td>\n",
       "      <td>7</td>\n",
       "      <td>[Forest, fire, near, La, Ronge, Sask, Canada]</td>\n",
       "    </tr>\n",
       "    <tr>\n",
       "      <th>2</th>\n",
       "      <td>5</td>\n",
       "      <td>NaN</td>\n",
       "      <td>NaN</td>\n",
       "      <td>All residents asked to 'shelter in place' are ...</td>\n",
       "      <td>1</td>\n",
       "      <td>133</td>\n",
       "      <td>22</td>\n",
       "      <td>[residents, asked, shelter, place, notified, o...</td>\n",
       "    </tr>\n",
       "    <tr>\n",
       "      <th>3</th>\n",
       "      <td>6</td>\n",
       "      <td>NaN</td>\n",
       "      <td>NaN</td>\n",
       "      <td>13,000 people receive #wildfires evacuation or...</td>\n",
       "      <td>1</td>\n",
       "      <td>65</td>\n",
       "      <td>8</td>\n",
       "      <td>[13000, people, receive, wildfires, evacuation...</td>\n",
       "    </tr>\n",
       "    <tr>\n",
       "      <th>4</th>\n",
       "      <td>7</td>\n",
       "      <td>NaN</td>\n",
       "      <td>NaN</td>\n",
       "      <td>Just got sent this photo from Ruby #Alaska as ...</td>\n",
       "      <td>1</td>\n",
       "      <td>88</td>\n",
       "      <td>16</td>\n",
       "      <td>[got, sent, photo, Ruby, Alaska, smoke, wildfi...</td>\n",
       "    </tr>\n",
       "  </tbody>\n",
       "</table>\n",
       "</div>"
      ],
      "text/plain": [
       "   id keyword location                                               text  \\\n",
       "0   1     NaN      NaN  Our Deeds are the Reason of this #earthquake M...   \n",
       "1   4     NaN      NaN             Forest fire near La Ronge Sask. Canada   \n",
       "2   5     NaN      NaN  All residents asked to 'shelter in place' are ...   \n",
       "3   6     NaN      NaN  13,000 people receive #wildfires evacuation or...   \n",
       "4   7     NaN      NaN  Just got sent this photo from Ruby #Alaska as ...   \n",
       "\n",
       "   target  length  num_words  \\\n",
       "0       1      69         13   \n",
       "1       1      38          7   \n",
       "2       1     133         22   \n",
       "3       1      65          8   \n",
       "4       1      88         16   \n",
       "\n",
       "                                          clean_text  \n",
       "0  [Deeds, Reason, earthquake, May, ALLAH, Forgiv...  \n",
       "1      [Forest, fire, near, La, Ronge, Sask, Canada]  \n",
       "2  [residents, asked, shelter, place, notified, o...  \n",
       "3  [13000, people, receive, wildfires, evacuation...  \n",
       "4  [got, sent, photo, Ruby, Alaska, smoke, wildfi...  "
      ]
     },
     "execution_count": 31,
     "metadata": {},
     "output_type": "execute_result"
    }
   ],
   "source": [
    "train_data.head()"
   ]
  },
  {
   "cell_type": "code",
   "execution_count": 32,
   "id": "b7351b96",
   "metadata": {
    "execution": {
     "iopub.execute_input": "2023-03-17T09:22:49.372250Z",
     "iopub.status.busy": "2023-03-17T09:22:49.371870Z",
     "iopub.status.idle": "2023-03-17T09:22:49.549405Z",
     "shell.execute_reply": "2023-03-17T09:22:49.548132Z"
    },
    "papermill": {
     "duration": 0.201944,
     "end_time": "2023-03-17T09:22:49.552022",
     "exception": false,
     "start_time": "2023-03-17T09:22:49.350078",
     "status": "completed"
    },
    "tags": []
   },
   "outputs": [],
   "source": [
    "# TOKENIZING\n",
    "max_features=3000\n",
    "tokenizer=Tokenizer(num_words=max_features,split=' ')\n",
    "tokenizer.fit_on_texts(train_data['clean_text'].values)\n",
    "X = tokenizer.texts_to_sequences(train_data['clean_text'].values)\n",
    "X = pad_sequences(X)"
   ]
  },
  {
   "cell_type": "code",
   "execution_count": 33,
   "id": "baf9d21a",
   "metadata": {
    "execution": {
     "iopub.execute_input": "2023-03-17T09:22:49.594021Z",
     "iopub.status.busy": "2023-03-17T09:22:49.593672Z",
     "iopub.status.idle": "2023-03-17T09:22:49.600589Z",
     "shell.execute_reply": "2023-03-17T09:22:49.599371Z"
    },
    "papermill": {
     "duration": 0.031325,
     "end_time": "2023-03-17T09:22:49.603503",
     "exception": false,
     "start_time": "2023-03-17T09:22:49.572178",
     "status": "completed"
    },
    "tags": []
   },
   "outputs": [
    {
     "data": {
      "text/plain": [
       "(7613, 20)"
      ]
     },
     "execution_count": 33,
     "metadata": {},
     "output_type": "execute_result"
    }
   ],
   "source": [
    "X.shape"
   ]
  },
  {
   "cell_type": "code",
   "execution_count": 34,
   "id": "44c548d8",
   "metadata": {
    "execution": {
     "iopub.execute_input": "2023-03-17T09:22:49.646746Z",
     "iopub.status.busy": "2023-03-17T09:22:49.646309Z",
     "iopub.status.idle": "2023-03-17T09:22:49.656543Z",
     "shell.execute_reply": "2023-03-17T09:22:49.655427Z"
    },
    "papermill": {
     "duration": 0.034706,
     "end_time": "2023-03-17T09:22:49.659251",
     "exception": false,
     "start_time": "2023-03-17T09:22:49.624545",
     "status": "completed"
    },
    "tags": []
   },
   "outputs": [
    {
     "data": {
      "text/plain": [
       "array([   0,    0,    0,    0,    0,    0,    0,    0,    0,    0,    0,\n",
       "          0,    0,    0,    0,  716,  152,   54, 1454,   13], dtype=int32)"
      ]
     },
     "execution_count": 34,
     "metadata": {},
     "output_type": "execute_result"
    }
   ],
   "source": [
    "X[0] #In X[0] out 7 cleaned word only 5 belong to top 3000 words."
   ]
  },
  {
   "cell_type": "code",
   "execution_count": 35,
   "id": "b34264a1",
   "metadata": {
    "execution": {
     "iopub.execute_input": "2023-03-17T09:22:49.702322Z",
     "iopub.status.busy": "2023-03-17T09:22:49.701997Z",
     "iopub.status.idle": "2023-03-17T09:22:49.709217Z",
     "shell.execute_reply": "2023-03-17T09:22:49.708166Z"
    },
    "papermill": {
     "duration": 0.032097,
     "end_time": "2023-03-17T09:22:49.712069",
     "exception": false,
     "start_time": "2023-03-17T09:22:49.679972",
     "status": "completed"
    },
    "tags": []
   },
   "outputs": [
    {
     "data": {
      "text/plain": [
       "['11yearold flooding life antioch 2']"
      ]
     },
     "execution_count": 35,
     "metadata": {},
     "output_type": "execute_result"
    }
   ],
   "source": [
    "tokenizer.sequences_to_texts([[ 713,  154,   56, 1434,   14]])"
   ]
  },
  {
   "cell_type": "markdown",
   "id": "d0160182",
   "metadata": {
    "papermill": {
     "duration": 0.020385,
     "end_time": "2023-03-17T09:22:49.752999",
     "exception": false,
     "start_time": "2023-03-17T09:22:49.732614",
     "status": "completed"
    },
    "tags": []
   },
   "source": [
    "MODEL CREATION USING LSTM"
   ]
  },
  {
   "cell_type": "code",
   "execution_count": 36,
   "id": "0a6281b8",
   "metadata": {
    "execution": {
     "iopub.execute_input": "2023-03-17T09:22:49.795958Z",
     "iopub.status.busy": "2023-03-17T09:22:49.795608Z",
     "iopub.status.idle": "2023-03-17T09:22:49.800068Z",
     "shell.execute_reply": "2023-03-17T09:22:49.799160Z"
    },
    "papermill": {
     "duration": 0.028387,
     "end_time": "2023-03-17T09:22:49.801912",
     "exception": false,
     "start_time": "2023-03-17T09:22:49.773525",
     "status": "completed"
    },
    "tags": []
   },
   "outputs": [],
   "source": [
    "y = train_data['target']"
   ]
  },
  {
   "cell_type": "code",
   "execution_count": 37,
   "id": "c84bfdef",
   "metadata": {
    "execution": {
     "iopub.execute_input": "2023-03-17T09:22:49.844643Z",
     "iopub.status.busy": "2023-03-17T09:22:49.843555Z",
     "iopub.status.idle": "2023-03-17T09:22:49.852545Z",
     "shell.execute_reply": "2023-03-17T09:22:49.851733Z"
    },
    "papermill": {
     "duration": 0.033058,
     "end_time": "2023-03-17T09:22:49.854892",
     "exception": false,
     "start_time": "2023-03-17T09:22:49.821834",
     "status": "completed"
    },
    "tags": []
   },
   "outputs": [],
   "source": [
    "X_train, X_test, y_train, y_test = train_test_split(X,y, test_size = 0.2, random_state =41)"
   ]
  },
  {
   "cell_type": "code",
   "execution_count": 38,
   "id": "c306fd89",
   "metadata": {
    "execution": {
     "iopub.execute_input": "2023-03-17T09:22:49.897945Z",
     "iopub.status.busy": "2023-03-17T09:22:49.897189Z",
     "iopub.status.idle": "2023-03-17T09:22:49.902506Z",
     "shell.execute_reply": "2023-03-17T09:22:49.901185Z"
    },
    "papermill": {
     "duration": 0.029717,
     "end_time": "2023-03-17T09:22:49.904843",
     "exception": false,
     "start_time": "2023-03-17T09:22:49.875126",
     "status": "completed"
    },
    "tags": []
   },
   "outputs": [],
   "source": [
    "os.environ['TF_XLA_FLAGS'] = '--tf_xla_enable_xla_devices'"
   ]
  },
  {
   "cell_type": "code",
   "execution_count": 39,
   "id": "d7a87de9",
   "metadata": {
    "execution": {
     "iopub.execute_input": "2023-03-17T09:22:49.947494Z",
     "iopub.status.busy": "2023-03-17T09:22:49.946851Z",
     "iopub.status.idle": "2023-03-17T09:22:50.607908Z",
     "shell.execute_reply": "2023-03-17T09:22:50.606631Z"
    },
    "papermill": {
     "duration": 0.685463,
     "end_time": "2023-03-17T09:22:50.610786",
     "exception": false,
     "start_time": "2023-03-17T09:22:49.925323",
     "status": "completed"
    },
    "tags": []
   },
   "outputs": [
    {
     "name": "stdout",
     "output_type": "stream",
     "text": [
      "Model: \"sequential\"\n",
      "_________________________________________________________________\n",
      " Layer (type)                Output Shape              Param #   \n",
      "=================================================================\n",
      " embedding (Embedding)       (None, 20, 32)            96000     \n",
      "                                                                 \n",
      " dropout (Dropout)           (None, 20, 32)            0         \n",
      "                                                                 \n",
      " lstm (LSTM)                 (None, 32)                8320      \n",
      "                                                                 \n",
      " dense (Dense)               (None, 1)                 33        \n",
      "                                                                 \n",
      "=================================================================\n",
      "Total params: 104,353\n",
      "Trainable params: 104,353\n",
      "Non-trainable params: 0\n",
      "_________________________________________________________________\n",
      "None\n"
     ]
    }
   ],
   "source": [
    "embed_dim = 32\n",
    "lstm_out = 32\n",
    "model = Sequential()\n",
    "model.add(Embedding(max_features, embed_dim,input_length = X.shape[1]))\n",
    "model.add(Dropout(0.2))\n",
    "model.add(LSTM(lstm_out, dropout=0.2, recurrent_dropout=0.4))\n",
    "model.add(Dense(1,activation='sigmoid'))\n",
    "adam = optimizers.Adam(learning_rate=0.002)\n",
    "model.compile(loss = 'binary_crossentropy', optimizer=adam ,metrics = ['accuracy'])\n",
    "print(model.summary())"
   ]
  },
  {
   "cell_type": "code",
   "execution_count": 40,
   "id": "d549f95a",
   "metadata": {
    "execution": {
     "iopub.execute_input": "2023-03-17T09:22:50.655569Z",
     "iopub.status.busy": "2023-03-17T09:22:50.655142Z",
     "iopub.status.idle": "2023-03-17T09:23:26.235699Z",
     "shell.execute_reply": "2023-03-17T09:23:26.234598Z"
    },
    "papermill": {
     "duration": 35.60605,
     "end_time": "2023-03-17T09:23:26.238151",
     "exception": false,
     "start_time": "2023-03-17T09:22:50.632101",
     "status": "completed"
    },
    "tags": []
   },
   "outputs": [
    {
     "name": "stdout",
     "output_type": "stream",
     "text": [
      "Epoch 1/10\n",
      "191/191 [==============================] - 6s 18ms/step - loss: 0.5466 - accuracy: 0.7238 - val_loss: 0.4371 - val_accuracy: 0.8109\n",
      "Epoch 2/10\n",
      "191/191 [==============================] - 3s 17ms/step - loss: 0.3767 - accuracy: 0.8404 - val_loss: 0.4426 - val_accuracy: 0.8109\n",
      "Epoch 3/10\n",
      "191/191 [==============================] - 3s 17ms/step - loss: 0.3194 - accuracy: 0.8693 - val_loss: 0.4698 - val_accuracy: 0.8037\n",
      "Epoch 4/10\n",
      "191/191 [==============================] - 3s 17ms/step - loss: 0.2863 - accuracy: 0.8808 - val_loss: 0.4990 - val_accuracy: 0.7886\n",
      "Epoch 5/10\n",
      "191/191 [==============================] - 3s 17ms/step - loss: 0.2581 - accuracy: 0.8924 - val_loss: 0.5491 - val_accuracy: 0.7840\n",
      "Epoch 6/10\n",
      "191/191 [==============================] - 3s 17ms/step - loss: 0.2251 - accuracy: 0.9048 - val_loss: 0.6294 - val_accuracy: 0.7748\n",
      "Epoch 7/10\n",
      "191/191 [==============================] - 3s 16ms/step - loss: 0.2106 - accuracy: 0.9110 - val_loss: 0.6940 - val_accuracy: 0.7669\n",
      "Epoch 8/10\n",
      "191/191 [==============================] - 3s 17ms/step - loss: 0.1921 - accuracy: 0.9146 - val_loss: 0.7671 - val_accuracy: 0.7571\n",
      "Epoch 9/10\n",
      "191/191 [==============================] - 3s 17ms/step - loss: 0.1734 - accuracy: 0.9263 - val_loss: 0.8550 - val_accuracy: 0.7656\n",
      "Epoch 10/10\n",
      "191/191 [==============================] - 3s 17ms/step - loss: 0.1594 - accuracy: 0.9281 - val_loss: 0.9074 - val_accuracy: 0.7597\n"
     ]
    },
    {
     "data": {
      "text/plain": [
       "<keras.callbacks.History at 0x7ff3145a5510>"
      ]
     },
     "execution_count": 40,
     "metadata": {},
     "output_type": "execute_result"
    }
   ],
   "source": [
    "model.fit(X_train, y_train, epochs = 10, batch_size=32, validation_data=(X_test, y_test))"
   ]
  },
  {
   "cell_type": "code",
   "execution_count": 41,
   "id": "3e245d5a",
   "metadata": {
    "execution": {
     "iopub.execute_input": "2023-03-17T09:23:26.341485Z",
     "iopub.status.busy": "2023-03-17T09:23:26.341068Z",
     "iopub.status.idle": "2023-03-17T09:23:26.832578Z",
     "shell.execute_reply": "2023-03-17T09:23:26.831042Z"
    },
    "papermill": {
     "duration": 0.546327,
     "end_time": "2023-03-17T09:23:26.835297",
     "exception": false,
     "start_time": "2023-03-17T09:23:26.288970",
     "status": "completed"
    },
    "tags": []
   },
   "outputs": [
    {
     "name": "stdout",
     "output_type": "stream",
     "text": [
      "48/48 [==============================] - 0s 4ms/step\n"
     ]
    }
   ],
   "source": [
    "y_pred = model.predict(X_test).round()"
   ]
  },
  {
   "cell_type": "code",
   "execution_count": 42,
   "id": "0eeaceed",
   "metadata": {
    "execution": {
     "iopub.execute_input": "2023-03-17T09:23:26.939030Z",
     "iopub.status.busy": "2023-03-17T09:23:26.938666Z",
     "iopub.status.idle": "2023-03-17T09:23:26.946274Z",
     "shell.execute_reply": "2023-03-17T09:23:26.945072Z"
    },
    "papermill": {
     "duration": 0.06204,
     "end_time": "2023-03-17T09:23:26.948322",
     "exception": false,
     "start_time": "2023-03-17T09:23:26.886282",
     "status": "completed"
    },
    "tags": []
   },
   "outputs": [
    {
     "data": {
      "text/plain": [
       "array([[0.],\n",
       "       [1.],\n",
       "       [1.],\n",
       "       ...,\n",
       "       [0.],\n",
       "       [1.],\n",
       "       [0.]], dtype=float32)"
      ]
     },
     "execution_count": 42,
     "metadata": {},
     "output_type": "execute_result"
    }
   ],
   "source": [
    "y_pred"
   ]
  },
  {
   "cell_type": "markdown",
   "id": "c6be4ceb",
   "metadata": {
    "papermill": {
     "duration": 0.050606,
     "end_time": "2023-03-17T09:23:27.049735",
     "exception": false,
     "start_time": "2023-03-17T09:23:26.999129",
     "status": "completed"
    },
    "tags": []
   },
   "source": [
    "EVALUATION"
   ]
  },
  {
   "cell_type": "code",
   "execution_count": 43,
   "id": "8c4da8ba",
   "metadata": {
    "execution": {
     "iopub.execute_input": "2023-03-17T09:23:27.152459Z",
     "iopub.status.busy": "2023-03-17T09:23:27.152046Z",
     "iopub.status.idle": "2023-03-17T09:23:27.977349Z",
     "shell.execute_reply": "2023-03-17T09:23:27.975727Z"
    },
    "papermill": {
     "duration": 0.879602,
     "end_time": "2023-03-17T09:23:27.979791",
     "exception": false,
     "start_time": "2023-03-17T09:23:27.100189",
     "status": "completed"
    },
    "tags": []
   },
   "outputs": [
    {
     "name": "stdout",
     "output_type": "stream",
     "text": [
      "191/191 [==============================] - 1s 4ms/step\n"
     ]
    },
    {
     "data": {
      "text/plain": [
       "95"
      ]
     },
     "execution_count": 43,
     "metadata": {},
     "output_type": "execute_result"
    }
   ],
   "source": [
    "# ACCURACY\n",
    "train_accuracy = round(metrics.accuracy_score(y_train,model.predict(X_train).round())*100)\n",
    "train_accuracy"
   ]
  },
  {
   "cell_type": "code",
   "execution_count": 44,
   "id": "8fbdb1c0",
   "metadata": {
    "execution": {
     "iopub.execute_input": "2023-03-17T09:23:28.088703Z",
     "iopub.status.busy": "2023-03-17T09:23:28.087183Z",
     "iopub.status.idle": "2023-03-17T09:23:28.098146Z",
     "shell.execute_reply": "2023-03-17T09:23:28.096866Z"
    },
    "papermill": {
     "duration": 0.068894,
     "end_time": "2023-03-17T09:23:28.100325",
     "exception": false,
     "start_time": "2023-03-17T09:23:28.031431",
     "status": "completed"
    },
    "tags": []
   },
   "outputs": [
    {
     "name": "stdout",
     "output_type": "stream",
     "text": [
      "Accuracy  is  :  0.7596848325673013\n",
      "Recall  is    :  0.7134146341463414\n",
      "Precision  is :  0.7244582043343654\n"
     ]
    }
   ],
   "source": [
    "# PRECISION, RECALL \n",
    "print('Accuracy  is  : ', (metrics.accuracy_score(y_test, y_pred)))\n",
    "print('Recall  is    : ', (metrics.recall_score(y_test, y_pred)))\n",
    "print('Precision  is : ', (metrics.precision_score(y_test, y_pred)))"
   ]
  },
  {
   "cell_type": "code",
   "execution_count": 45,
   "id": "79dbc8d7",
   "metadata": {
    "execution": {
     "iopub.execute_input": "2023-03-17T09:23:28.207325Z",
     "iopub.status.busy": "2023-03-17T09:23:28.206945Z",
     "iopub.status.idle": "2023-03-17T09:23:28.214257Z",
     "shell.execute_reply": "2023-03-17T09:23:28.212924Z"
    },
    "papermill": {
     "duration": 0.063068,
     "end_time": "2023-03-17T09:23:28.216275",
     "exception": false,
     "start_time": "2023-03-17T09:23:28.153207",
     "status": "completed"
    },
    "tags": []
   },
   "outputs": [
    {
     "data": {
      "text/plain": [
       "array([[689, 178],\n",
       "       [188, 468]])"
      ]
     },
     "execution_count": 45,
     "metadata": {},
     "output_type": "execute_result"
    }
   ],
   "source": [
    "# CONFUSION MATRIX\n",
    "conm = confusion_matrix(y_test,y_pred)\n",
    "conm"
   ]
  },
  {
   "cell_type": "code",
   "execution_count": 46,
   "id": "bdf94cf9",
   "metadata": {
    "execution": {
     "iopub.execute_input": "2023-03-17T09:23:28.322210Z",
     "iopub.status.busy": "2023-03-17T09:23:28.321824Z",
     "iopub.status.idle": "2023-03-17T09:23:28.498057Z",
     "shell.execute_reply": "2023-03-17T09:23:28.496707Z"
    },
    "papermill": {
     "duration": 0.232048,
     "end_time": "2023-03-17T09:23:28.500094",
     "exception": false,
     "start_time": "2023-03-17T09:23:28.268046",
     "status": "completed"
    },
    "tags": []
   },
   "outputs": [
    {
     "data": {
      "image/png": "[encoded data removed]",
      "text/plain": [
       "<Figure size 700x500 with 2 Axes>"
      ]
     },
     "metadata": {},
     "output_type": "display_data"
    }
   ],
   "source": [
    "plt.figure(figsize=(7, 5))\n",
    "sns.heatmap(conm, annot=True, fmt='d', cmap='cool')\n",
    "plt.show()"
   ]
  },
  {
   "cell_type": "markdown",
   "id": "44ee0315",
   "metadata": {
    "papermill": {
     "duration": 0.051854,
     "end_time": "2023-03-17T09:23:28.603498",
     "exception": false,
     "start_time": "2023-03-17T09:23:28.551644",
     "status": "completed"
    },
    "tags": []
   },
   "source": [
    "SUBMISSION"
   ]
  },
  {
   "cell_type": "code",
   "execution_count": 47,
   "id": "b6f9349c",
   "metadata": {
    "execution": {
     "iopub.execute_input": "2023-03-17T09:23:28.710439Z",
     "iopub.status.busy": "2023-03-17T09:23:28.709979Z",
     "iopub.status.idle": "2023-03-17T09:23:28.735677Z",
     "shell.execute_reply": "2023-03-17T09:23:28.734554Z"
    },
    "papermill": {
     "duration": 0.082247,
     "end_time": "2023-03-17T09:23:28.738296",
     "exception": false,
     "start_time": "2023-03-17T09:23:28.656049",
     "status": "completed"
    },
    "tags": []
   },
   "outputs": [],
   "source": [
    "test_data = pd.read_csv('../input/nlp-getting-started/test.csv')"
   ]
  },
  {
   "cell_type": "code",
   "execution_count": 48,
   "id": "a611e5d1",
   "metadata": {
    "execution": {
     "iopub.execute_input": "2023-03-17T09:23:28.850750Z",
     "iopub.status.busy": "2023-03-17T09:23:28.850169Z",
     "iopub.status.idle": "2023-03-17T09:23:28.863730Z",
     "shell.execute_reply": "2023-03-17T09:23:28.862301Z"
    },
    "papermill": {
     "duration": 0.073357,
     "end_time": "2023-03-17T09:23:28.866331",
     "exception": false,
     "start_time": "2023-03-17T09:23:28.792974",
     "status": "completed"
    },
    "tags": []
   },
   "outputs": [
    {
     "data": {
      "text/html": [
       "<style type=\"text/css\">\n",
       "#T_d562c_row0_col0 {\n",
       "  background-color: #3b4cc0;\n",
       "  color: #f1f1f1;\n",
       "}\n",
       "#T_d562c_row1_col0 {\n",
       "  background-color: #7597f6;\n",
       "  color: #f1f1f1;\n",
       "}\n",
       "#T_d562c_row2_col0 {\n",
       "  background-color: #94b6ff;\n",
       "  color: #000000;\n",
       "}\n",
       "#T_d562c_row3_col0 {\n",
       "  background-color: #ea7b60;\n",
       "  color: #f1f1f1;\n",
       "}\n",
       "#T_d562c_row4_col0 {\n",
       "  background-color: #b40426;\n",
       "  color: #f1f1f1;\n",
       "}\n",
       "</style>\n",
       "<table id=\"T_d562c_\">\n",
       "  <thead>\n",
       "    <tr>\n",
       "      <th class=\"blank level0\" >&nbsp;</th>\n",
       "      <th class=\"col_heading level0 col0\" >id</th>\n",
       "      <th class=\"col_heading level0 col1\" >keyword</th>\n",
       "      <th class=\"col_heading level0 col2\" >location</th>\n",
       "      <th class=\"col_heading level0 col3\" >text</th>\n",
       "    </tr>\n",
       "  </thead>\n",
       "  <tbody>\n",
       "    <tr>\n",
       "      <th id=\"T_d562c_level0_row0\" class=\"row_heading level0 row0\" >0</th>\n",
       "      <td id=\"T_d562c_row0_col0\" class=\"data row0 col0\" >0</td>\n",
       "      <td id=\"T_d562c_row0_col1\" class=\"data row0 col1\" >nan</td>\n",
       "      <td id=\"T_d562c_row0_col2\" class=\"data row0 col2\" >nan</td>\n",
       "      <td id=\"T_d562c_row0_col3\" class=\"data row0 col3\" >Just happened a terrible car crash</td>\n",
       "    </tr>\n",
       "    <tr>\n",
       "      <th id=\"T_d562c_level0_row1\" class=\"row_heading level0 row1\" >1</th>\n",
       "      <td id=\"T_d562c_row1_col0\" class=\"data row1 col0\" >2</td>\n",
       "      <td id=\"T_d562c_row1_col1\" class=\"data row1 col1\" >nan</td>\n",
       "      <td id=\"T_d562c_row1_col2\" class=\"data row1 col2\" >nan</td>\n",
       "      <td id=\"T_d562c_row1_col3\" class=\"data row1 col3\" >Heard about #earthquake is different cities, stay safe everyone.</td>\n",
       "    </tr>\n",
       "    <tr>\n",
       "      <th id=\"T_d562c_level0_row2\" class=\"row_heading level0 row2\" >2</th>\n",
       "      <td id=\"T_d562c_row2_col0\" class=\"data row2 col0\" >3</td>\n",
       "      <td id=\"T_d562c_row2_col1\" class=\"data row2 col1\" >nan</td>\n",
       "      <td id=\"T_d562c_row2_col2\" class=\"data row2 col2\" >nan</td>\n",
       "      <td id=\"T_d562c_row2_col3\" class=\"data row2 col3\" >there is a forest fire at spot pond, geese are fleeing across the street, I cannot save them all</td>\n",
       "    </tr>\n",
       "    <tr>\n",
       "      <th id=\"T_d562c_level0_row3\" class=\"row_heading level0 row3\" >3</th>\n",
       "      <td id=\"T_d562c_row3_col0\" class=\"data row3 col0\" >9</td>\n",
       "      <td id=\"T_d562c_row3_col1\" class=\"data row3 col1\" >nan</td>\n",
       "      <td id=\"T_d562c_row3_col2\" class=\"data row3 col2\" >nan</td>\n",
       "      <td id=\"T_d562c_row3_col3\" class=\"data row3 col3\" >Apocalypse lighting. #Spokane #wildfires</td>\n",
       "    </tr>\n",
       "    <tr>\n",
       "      <th id=\"T_d562c_level0_row4\" class=\"row_heading level0 row4\" >4</th>\n",
       "      <td id=\"T_d562c_row4_col0\" class=\"data row4 col0\" >11</td>\n",
       "      <td id=\"T_d562c_row4_col1\" class=\"data row4 col1\" >nan</td>\n",
       "      <td id=\"T_d562c_row4_col2\" class=\"data row4 col2\" >nan</td>\n",
       "      <td id=\"T_d562c_row4_col3\" class=\"data row4 col3\" >Typhoon Soudelor kills 28 in China and Taiwan</td>\n",
       "    </tr>\n",
       "  </tbody>\n",
       "</table>\n"
      ],
      "text/plain": [
       "<pandas.io.formats.style.Styler at 0x7ff2f44f91d0>"
      ]
     },
     "execution_count": 48,
     "metadata": {},
     "output_type": "execute_result"
    }
   ],
   "source": [
    "test_data.head().style.background_gradient(cmap='coolwarm')"
   ]
  },
  {
   "cell_type": "code",
   "execution_count": 49,
   "id": "b592d7b1",
   "metadata": {
    "execution": {
     "iopub.execute_input": "2023-03-17T09:23:28.974213Z",
     "iopub.status.busy": "2023-03-17T09:23:28.973827Z",
     "iopub.status.idle": "2023-03-17T09:23:29.022401Z",
     "shell.execute_reply": "2023-03-17T09:23:29.021350Z"
    },
    "papermill": {
     "duration": 0.105142,
     "end_time": "2023-03-17T09:23:29.024847",
     "exception": false,
     "start_time": "2023-03-17T09:23:28.919705",
     "status": "completed"
    },
    "tags": []
   },
   "outputs": [],
   "source": [
    "test_data['clean_text'] = test_data['text'].apply(toclean_text)"
   ]
  },
  {
   "cell_type": "code",
   "execution_count": 50,
   "id": "ef02c0d7",
   "metadata": {
    "execution": {
     "iopub.execute_input": "2023-03-17T09:23:29.147893Z",
     "iopub.status.busy": "2023-03-17T09:23:29.147515Z",
     "iopub.status.idle": "2023-03-17T09:23:29.154862Z",
     "shell.execute_reply": "2023-03-17T09:23:29.153896Z"
    },
    "papermill": {
     "duration": 0.069712,
     "end_time": "2023-03-17T09:23:29.156859",
     "exception": false,
     "start_time": "2023-03-17T09:23:29.087147",
     "status": "completed"
    },
    "tags": []
   },
   "outputs": [
    {
     "data": {
      "text/plain": [
       "0                   Just happened a terrible car crash\n",
       "1    Heard about earthquake is different cities sta...\n",
       "2    there is a forest fire at spot pond geese are ...\n",
       "3                Apocalypse lighting Spokane wildfires\n",
       "4        Typhoon Soudelor kills 28 in China and Taiwan\n",
       "Name: clean_text, dtype: object"
      ]
     },
     "execution_count": 50,
     "metadata": {},
     "output_type": "execute_result"
    }
   ],
   "source": [
    "test_data['clean_text'].head()"
   ]
  },
  {
   "cell_type": "code",
   "execution_count": 51,
   "id": "caca4288",
   "metadata": {
    "execution": {
     "iopub.execute_input": "2023-03-17T09:23:29.265494Z",
     "iopub.status.busy": "2023-03-17T09:23:29.265118Z",
     "iopub.status.idle": "2023-03-17T09:23:29.269505Z",
     "shell.execute_reply": "2023-03-17T09:23:29.268705Z"
    },
    "papermill": {
     "duration": 0.060904,
     "end_time": "2023-03-17T09:23:29.271617",
     "exception": false,
     "start_time": "2023-03-17T09:23:29.210713",
     "status": "completed"
    },
    "tags": []
   },
   "outputs": [],
   "source": [
    "# CREATING NEW MODEL FOR SUBMISSION\n",
    "# ADDING 2 LAYERS \n",
    "# max_features = 5000\n",
    "# l =50\n",
    "# learning_rate=2e-3\n",
    "# lstm_out = 100"
   ]
  },
  {
   "cell_type": "code",
   "execution_count": 52,
   "id": "19f6938d",
   "metadata": {
    "execution": {
     "iopub.execute_input": "2023-03-17T09:23:29.379208Z",
     "iopub.status.busy": "2023-03-17T09:23:29.378867Z",
     "iopub.status.idle": "2023-03-17T09:23:29.557973Z",
     "shell.execute_reply": "2023-03-17T09:23:29.556494Z"
    },
    "papermill": {
     "duration": 0.23662,
     "end_time": "2023-03-17T09:23:29.560603",
     "exception": false,
     "start_time": "2023-03-17T09:23:29.323983",
     "status": "completed"
    },
    "tags": []
   },
   "outputs": [],
   "source": [
    "l =50\n",
    "max_features=5000\n",
    "tokenizer=Tokenizer(num_words=max_features,split=' ')\n",
    "tokenizer.fit_on_texts(train_data['clean_text'].values)\n",
    "X = tokenizer.texts_to_sequences(train_data['clean_text'].values)\n",
    "X = pad_sequences(X, maxlen =l)"
   ]
  },
  {
   "cell_type": "code",
   "execution_count": 53,
   "id": "ada6e305",
   "metadata": {
    "execution": {
     "iopub.execute_input": "2023-03-17T09:23:29.667656Z",
     "iopub.status.busy": "2023-03-17T09:23:29.667274Z",
     "iopub.status.idle": "2023-03-17T09:23:29.830760Z",
     "shell.execute_reply": "2023-03-17T09:23:29.829718Z"
    },
    "papermill": {
     "duration": 0.220128,
     "end_time": "2023-03-17T09:23:29.833300",
     "exception": false,
     "start_time": "2023-03-17T09:23:29.613172",
     "status": "completed"
    },
    "tags": []
   },
   "outputs": [],
   "source": [
    "tokenizer.fit_on_texts(train_data['clean_text'].values)\n",
    "test_token = tokenizer.texts_to_sequences(test_data['clean_text'].values)\n",
    "test_token = pad_sequences(test_token, maxlen =l)"
   ]
  },
  {
   "cell_type": "code",
   "execution_count": 54,
   "id": "781e36ae",
   "metadata": {
    "execution": {
     "iopub.execute_input": "2023-03-17T09:23:29.943741Z",
     "iopub.status.busy": "2023-03-17T09:23:29.943366Z",
     "iopub.status.idle": "2023-03-17T09:23:30.273482Z",
     "shell.execute_reply": "2023-03-17T09:23:30.272352Z"
    },
    "papermill": {
     "duration": 0.387075,
     "end_time": "2023-03-17T09:23:30.275397",
     "exception": false,
     "start_time": "2023-03-17T09:23:29.888322",
     "status": "completed"
    },
    "tags": []
   },
   "outputs": [
    {
     "name": "stdout",
     "output_type": "stream",
     "text": [
      "Model: \"sequential_1\"\n",
      "_________________________________________________________________\n",
      " Layer (type)                Output Shape              Param #   \n",
      "=================================================================\n",
      " embedding_1 (Embedding)     (None, 50, 100)           500000    \n",
      "                                                                 \n",
      " dropout_1 (Dropout)         (None, 50, 100)           0         \n",
      "                                                                 \n",
      " lstm_1 (LSTM)               (None, 50, 100)           80400     \n",
      "                                                                 \n",
      " dropout_2 (Dropout)         (None, 50, 100)           0         \n",
      "                                                                 \n",
      " lstm_2 (LSTM)               (None, 100)               80400     \n",
      "                                                                 \n",
      " dropout_3 (Dropout)         (None, 100)               0         \n",
      "                                                                 \n",
      " dense_1 (Dense)             (None, 1)                 101       \n",
      "                                                                 \n",
      "=================================================================\n",
      "Total params: 660,901\n",
      "Trainable params: 660,901\n",
      "Non-trainable params: 0\n",
      "_________________________________________________________________\n",
      "None\n"
     ]
    }
   ],
   "source": [
    "embed_dim = 100\n",
    "lstm_out = 100\n",
    "model = Sequential()\n",
    "model.add(Embedding(max_features, embed_dim,input_length = X.shape[1]))\n",
    "model.add(Dropout(0.2))\n",
    "model.add(LSTM(lstm_out, dropout=0.2, return_sequences=True,recurrent_dropout=0.4))\n",
    "model.add(Dropout(0.2))\n",
    "model.add(LSTM(lstm_out,dropout=0.2, recurrent_dropout=0.2))\n",
    "model.add(Dropout(0.2))\n",
    "model.add(Dense(1,activation='sigmoid'))\n",
    "adam = optimizers.Adam(learning_rate=2e-3)\n",
    "model.compile(loss = 'binary_crossentropy', optimizer=adam ,metrics = ['accuracy'])\n",
    "print(model.summary())"
   ]
  },
  {
   "cell_type": "code",
   "execution_count": 55,
   "id": "a0b34132",
   "metadata": {
    "execution": {
     "iopub.execute_input": "2023-03-17T09:23:30.387489Z",
     "iopub.status.busy": "2023-03-17T09:23:30.386009Z",
     "iopub.status.idle": "2023-03-17T09:23:30.391219Z",
     "shell.execute_reply": "2023-03-17T09:23:30.390443Z"
    },
    "papermill": {
     "duration": 0.063175,
     "end_time": "2023-03-17T09:23:30.393192",
     "exception": false,
     "start_time": "2023-03-17T09:23:30.330017",
     "status": "completed"
    },
    "tags": []
   },
   "outputs": [],
   "source": [
    "es_callback = keras.callbacks.EarlyStopping(monitor='val_loss', patience=3)"
   ]
  },
  {
   "cell_type": "code",
   "execution_count": 56,
   "id": "8790aac2",
   "metadata": {
    "execution": {
     "iopub.execute_input": "2023-03-17T09:23:30.504975Z",
     "iopub.status.busy": "2023-03-17T09:23:30.504539Z",
     "iopub.status.idle": "2023-03-17T09:25:01.479920Z",
     "shell.execute_reply": "2023-03-17T09:25:01.478750Z"
    },
    "papermill": {
     "duration": 91.130472,
     "end_time": "2023-03-17T09:25:01.578757",
     "exception": false,
     "start_time": "2023-03-17T09:23:30.448285",
     "status": "completed"
    },
    "tags": []
   },
   "outputs": [
    {
     "name": "stdout",
     "output_type": "stream",
     "text": [
      "Epoch 1/10\n",
      "191/191 [==============================] - 27s 115ms/step - loss: 0.5200 - accuracy: 0.7425 - val_loss: 0.4771 - val_accuracy: 0.7741\n",
      "Epoch 2/10\n",
      "191/191 [==============================] - 22s 113ms/step - loss: 0.3531 - accuracy: 0.8553 - val_loss: 0.4806 - val_accuracy: 0.7859\n",
      "Epoch 3/10\n",
      "191/191 [==============================] - 21s 111ms/step - loss: 0.2827 - accuracy: 0.8878 - val_loss: 0.5717 - val_accuracy: 0.7597\n",
      "Epoch 4/10\n",
      "191/191 [==============================] - 21s 112ms/step - loss: 0.2324 - accuracy: 0.9089 - val_loss: 0.6012 - val_accuracy: 0.7564\n"
     ]
    },
    {
     "data": {
      "text/plain": [
       "<keras.callbacks.History at 0x7ff2f43d3990>"
      ]
     },
     "execution_count": 56,
     "metadata": {},
     "output_type": "execute_result"
    }
   ],
   "source": [
    "model.fit(X,y, epochs = 10,validation_split = 0.2 ,callbacks=[es_callback], batch_size=32)"
   ]
  },
  {
   "cell_type": "code",
   "execution_count": 57,
   "id": "75c03116",
   "metadata": {
    "execution": {
     "iopub.execute_input": "2023-03-17T09:25:01.777279Z",
     "iopub.status.busy": "2023-03-17T09:25:01.776557Z",
     "iopub.status.idle": "2023-03-17T09:25:59.691310Z",
     "shell.execute_reply": "2023-03-17T09:25:59.690093Z"
    },
    "papermill": {
     "duration": 58.017568,
     "end_time": "2023-03-17T09:25:59.693684",
     "exception": false,
     "start_time": "2023-03-17T09:25:01.676116",
     "status": "completed"
    },
    "tags": []
   },
   "outputs": [
    {
     "name": "stdout",
     "output_type": "stream",
     "text": [
      "102/102 [==============================] - 2s 18ms/step\n"
     ]
    },
    {
     "data": {
      "text/html": [
       "<style type=\"text/css\">\n",
       "#T_e776d_row0_col0 {\n",
       "  background-color: #9ebeff;\n",
       "  color: #000000;\n",
       "}\n",
       "#T_e776d_row0_col1, #T_e776d_row7_col0 {\n",
       "  background-color: #b40426;\n",
       "  color: #f1f1f1;\n",
       "}\n",
       "#T_e776d_row1_col0 {\n",
       "  background-color: #dcdddd;\n",
       "  color: #000000;\n",
       "}\n",
       "#T_e776d_row1_col1, #T_e776d_row2_col1, #T_e776d_row3_col0, #T_e776d_row3_col1, #T_e776d_row4_col1, #T_e776d_row5_col1, #T_e776d_row6_col1, #T_e776d_row7_col1 {\n",
       "  background-color: #3b4cc0;\n",
       "  color: #f1f1f1;\n",
       "}\n",
       "#T_e776d_row2_col0 {\n",
       "  background-color: #9bbcff;\n",
       "  color: #000000;\n",
       "}\n",
       "#T_e776d_row4_col0 {\n",
       "  background-color: #8caffe;\n",
       "  color: #000000;\n",
       "}\n",
       "#T_e776d_row5_col0 {\n",
       "  background-color: #dedcdb;\n",
       "  color: #000000;\n",
       "}\n",
       "#T_e776d_row6_col0 {\n",
       "  background-color: #f4987a;\n",
       "  color: #000000;\n",
       "}\n",
       "</style>\n",
       "<table id=\"T_e776d_\">\n",
       "  <thead>\n",
       "    <tr>\n",
       "      <th class=\"blank level0\" >&nbsp;</th>\n",
       "      <th class=\"col_heading level0 col0\" >id</th>\n",
       "      <th class=\"col_heading level0 col1\" >target</th>\n",
       "    </tr>\n",
       "  </thead>\n",
       "  <tbody>\n",
       "    <tr>\n",
       "      <th id=\"T_e776d_level0_row0\" class=\"row_heading level0 row0\" >count</th>\n",
       "      <td id=\"T_e776d_row0_col0\" class=\"data row0 col0\" >3263.000000</td>\n",
       "      <td id=\"T_e776d_row0_col1\" class=\"data row0 col1\" >3263.000000</td>\n",
       "    </tr>\n",
       "    <tr>\n",
       "      <th id=\"T_e776d_level0_row1\" class=\"row_heading level0 row1\" >mean</th>\n",
       "      <td id=\"T_e776d_row1_col0\" class=\"data row1 col0\" >5427.152927</td>\n",
       "      <td id=\"T_e776d_row1_col1\" class=\"data row1 col1\" >0.385228</td>\n",
       "    </tr>\n",
       "    <tr>\n",
       "      <th id=\"T_e776d_level0_row2\" class=\"row_heading level0 row2\" >std</th>\n",
       "      <td id=\"T_e776d_row2_col0\" class=\"data row2 col0\" >3146.427221</td>\n",
       "      <td id=\"T_e776d_row2_col1\" class=\"data row2 col1\" >0.486724</td>\n",
       "    </tr>\n",
       "    <tr>\n",
       "      <th id=\"T_e776d_level0_row3\" class=\"row_heading level0 row3\" >min</th>\n",
       "      <td id=\"T_e776d_row3_col0\" class=\"data row3 col0\" >0.000000</td>\n",
       "      <td id=\"T_e776d_row3_col1\" class=\"data row3 col1\" >0.000000</td>\n",
       "    </tr>\n",
       "    <tr>\n",
       "      <th id=\"T_e776d_level0_row4\" class=\"row_heading level0 row4\" >25%</th>\n",
       "      <td id=\"T_e776d_row4_col0\" class=\"data row4 col0\" >2683.000000</td>\n",
       "      <td id=\"T_e776d_row4_col1\" class=\"data row4 col1\" >0.000000</td>\n",
       "    </tr>\n",
       "    <tr>\n",
       "      <th id=\"T_e776d_level0_row5\" class=\"row_heading level0 row5\" >50%</th>\n",
       "      <td id=\"T_e776d_row5_col0\" class=\"data row5 col0\" >5500.000000</td>\n",
       "      <td id=\"T_e776d_row5_col1\" class=\"data row5 col1\" >0.000000</td>\n",
       "    </tr>\n",
       "    <tr>\n",
       "      <th id=\"T_e776d_level0_row6\" class=\"row_heading level0 row6\" >75%</th>\n",
       "      <td id=\"T_e776d_row6_col0\" class=\"data row6 col0\" >8176.000000</td>\n",
       "      <td id=\"T_e776d_row6_col1\" class=\"data row6 col1\" >1.000000</td>\n",
       "    </tr>\n",
       "    <tr>\n",
       "      <th id=\"T_e776d_level0_row7\" class=\"row_heading level0 row7\" >max</th>\n",
       "      <td id=\"T_e776d_row7_col0\" class=\"data row7 col0\" >10875.000000</td>\n",
       "      <td id=\"T_e776d_row7_col1\" class=\"data row7 col1\" >1.000000</td>\n",
       "    </tr>\n",
       "  </tbody>\n",
       "</table>\n"
      ],
      "text/plain": [
       "<pandas.io.formats.style.Styler at 0x7ff2f468c2d0>"
      ]
     },
     "execution_count": 57,
     "metadata": {},
     "output_type": "execute_result"
    }
   ],
   "source": [
    "y_hat = model.predict(test_token).round()\n",
    "submission = pd.read_csv(\"/kaggle/input/nlp-getting-started/sample_submission.csv\")\n",
    "submission['target'] = np.round(y_hat).astype('int')\n",
    "submission.to_csv('submission.csv', index=False)\n",
    "submission.describe().style.background_gradient(cmap='coolwarm')"
   ]
  },
  {
   "cell_type": "code",
   "execution_count": 58,
   "id": "1227cfeb",
   "metadata": {
    "execution": {
     "iopub.execute_input": "2023-03-17T09:25:59.898218Z",
     "iopub.status.busy": "2023-03-17T09:25:59.897344Z",
     "iopub.status.idle": "2023-03-17T09:26:00.033052Z",
     "shell.execute_reply": "2023-03-17T09:26:00.031901Z"
    },
    "papermill": {
     "duration": 0.239524,
     "end_time": "2023-03-17T09:26:00.035649",
     "exception": false,
     "start_time": "2023-03-17T09:25:59.796125",
     "status": "completed"
    },
    "tags": []
   },
   "outputs": [
    {
     "data": {
      "image/png": "[encoded data removed]",
      "text/plain": [
       "<Figure size 640x480 with 1 Axes>"
      ]
     },
     "metadata": {},
     "output_type": "display_data"
    }
   ],
   "source": [
    "submission.target.value_counts().plot.bar();"
   ]
  },
  {
   "cell_type": "code",
   "execution_count": null,
   "id": "92d5e0aa",
   "metadata": {
    "papermill": {
     "duration": 0.098609,
     "end_time": "2023-03-17T09:26:00.234167",
     "exception": false,
     "start_time": "2023-03-17T09:26:00.135558",
     "status": "completed"
    },
    "tags": []
   },
   "outputs": [],
   "source": []
  }
 ],
 "metadata": {
  "kernelspec": {
   "display_name": "Python 3",
   "language": "python",
   "name": "python3"
  },
  "language_info": {
   "codemirror_mode": {
    "name": "ipython",
    "version": 3
   },
   "file_extension": ".py",
   "mimetype": "text/x-python",
   "name": "python",
   "nbconvert_exporter": "python",
   "pygments_lexer": "ipython3",
   "version": "3.7.12"
  },
  "papermill": {
   "default_parameters": {},
   "duration": 230.576899,
   "end_time": "2023-03-17T09:26:03.525647",
   "environment_variables": {},
   "exception": null,
   "input_path": "__notebook__.ipynb",
   "output_path": "__notebook__.ipynb",
   "parameters": {},
   "start_time": "2023-03-17T09:22:12.948748",
   "version": "2.4.0"
  }
 },
 "nbformat": 4,
 "nbformat_minor": 5
}
